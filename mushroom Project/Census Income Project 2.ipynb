{
 "cells": [
  {
   "cell_type": "markdown",
   "metadata": {},
   "source": [
    "# Census Income Project\n",
    "Problem Statement:\n",
    "\n",
    "This data was extracted from the 1994 Census bureau database by Ronny Kohavi and Barry Becker (Data Mining and Visualization, Silicon Graphics). A set of reasonably clean records was extracted using the following conditions: ((AAGE>16) && (AGI>100) && (AFNLWGT>1) && (HRSWK>0)). The prediction task is to determine whether a person makes over $50K a year.\n",
    "\n",
    "Description of fnlwgt (final weight) The weights on the Current Population Survey (CPS) files are controlled to independent estimates of the civilian non-institutional population of the US. These are prepared monthly for us by Population Division here at the Census Bureau. We use 3 sets of controls. These are:\n",
    "\n",
    "A single cell estimate of the population 16+ for each state.\n",
    "\n",
    "Controls for Hispanic Origin by age and sex.\n",
    "\n",
    "Controls by Race, age and sex.\n",
    "\n",
    "We use all three sets of controls in our weighting program and \"rake\" through them 6 times so that by the end we come back to all the controls we used. The term estimate refers to population totals derived from CPS by creating \"weighted tallies\" of any specified socio-economic characteristics of the population. People with similar demographic characteristics should have similar weights. There is one important caveat to remember about this statement. That is that since the CPS sample is actually a collection of 51 state samples, each with its own probability of selection, the statement only applies within state."
   ]
  },
  {
   "cell_type": "code",
   "execution_count": 1,
   "metadata": {},
   "outputs": [],
   "source": [
    "#Importing Liabraries amd models and metrics for analysis and model creation\n",
    "import numpy as np\n",
    "import pandas as pd\n",
    "import sklearn\n",
    "import seaborn as sns\n",
    "import matplotlib.pyplot as plt\n",
    "from sklearn.model_selection import train_test_split\n",
    "from sklearn.metrics import accuracy_score, confusion_matrix, classification_report\n",
    "from sklearn.linear_model import LogisticRegression\n",
    "from sklearn.linear_model import LinearRegression\n",
    "from sklearn.metrics import mean_squared_error,mean_absolute_error\n",
    "from sklearn.model_selection import train_test_split\n",
    "from statsmodels.stats.outliers_influence import variance_inflation_factor\n",
    "from sklearn.naive_bayes import MultinomialNB\n",
    "from sklearn.svm import SVC\n",
    "from sklearn.tree import DecisionTreeClassifier\n",
    "from sklearn.neighbors import KNeighborsClassifier\n",
    "from sklearn.decomposition import PCA\n",
    "from imblearn.over_sampling import SMOTE\n",
    "from sklearn.model_selection import cross_val_score\n",
    "from sklearn.preprocessing import LabelEncoder\n",
    "from sklearn.linear_model import Lasso,Ridge\n",
    "import warnings\n",
    "warnings.filterwarnings('ignore')"
   ]
  },
  {
   "cell_type": "code",
   "execution_count": 2,
   "metadata": {},
   "outputs": [
    {
     "data": {
      "text/html": [
       "<div>\n",
       "<style scoped>\n",
       "    .dataframe tbody tr th:only-of-type {\n",
       "        vertical-align: middle;\n",
       "    }\n",
       "\n",
       "    .dataframe tbody tr th {\n",
       "        vertical-align: top;\n",
       "    }\n",
       "\n",
       "    .dataframe thead th {\n",
       "        text-align: right;\n",
       "    }\n",
       "</style>\n",
       "<table border=\"1\" class=\"dataframe\">\n",
       "  <thead>\n",
       "    <tr style=\"text-align: right;\">\n",
       "      <th></th>\n",
       "      <th>Age</th>\n",
       "      <th>Workclass</th>\n",
       "      <th>Fnlwgt</th>\n",
       "      <th>Education</th>\n",
       "      <th>Education_num</th>\n",
       "      <th>Marital_status</th>\n",
       "      <th>Occupation</th>\n",
       "      <th>Relationship</th>\n",
       "      <th>Race</th>\n",
       "      <th>Sex</th>\n",
       "      <th>Capital_gain</th>\n",
       "      <th>Capital_loss</th>\n",
       "      <th>Hours_per_week</th>\n",
       "      <th>Native_country</th>\n",
       "      <th>Income</th>\n",
       "    </tr>\n",
       "  </thead>\n",
       "  <tbody>\n",
       "    <tr>\n",
       "      <th>0</th>\n",
       "      <td>50</td>\n",
       "      <td>Self-emp-not-inc</td>\n",
       "      <td>83311</td>\n",
       "      <td>Bachelors</td>\n",
       "      <td>13</td>\n",
       "      <td>Married-civ-spouse</td>\n",
       "      <td>Exec-managerial</td>\n",
       "      <td>Husband</td>\n",
       "      <td>White</td>\n",
       "      <td>Male</td>\n",
       "      <td>0</td>\n",
       "      <td>0</td>\n",
       "      <td>13</td>\n",
       "      <td>United-States</td>\n",
       "      <td>&lt;=50K</td>\n",
       "    </tr>\n",
       "    <tr>\n",
       "      <th>1</th>\n",
       "      <td>38</td>\n",
       "      <td>Private</td>\n",
       "      <td>215646</td>\n",
       "      <td>HS-grad</td>\n",
       "      <td>9</td>\n",
       "      <td>Divorced</td>\n",
       "      <td>Handlers-cleaners</td>\n",
       "      <td>Not-in-family</td>\n",
       "      <td>White</td>\n",
       "      <td>Male</td>\n",
       "      <td>0</td>\n",
       "      <td>0</td>\n",
       "      <td>40</td>\n",
       "      <td>United-States</td>\n",
       "      <td>&lt;=50K</td>\n",
       "    </tr>\n",
       "    <tr>\n",
       "      <th>2</th>\n",
       "      <td>53</td>\n",
       "      <td>Private</td>\n",
       "      <td>234721</td>\n",
       "      <td>11th</td>\n",
       "      <td>7</td>\n",
       "      <td>Married-civ-spouse</td>\n",
       "      <td>Handlers-cleaners</td>\n",
       "      <td>Husband</td>\n",
       "      <td>Black</td>\n",
       "      <td>Male</td>\n",
       "      <td>0</td>\n",
       "      <td>0</td>\n",
       "      <td>40</td>\n",
       "      <td>United-States</td>\n",
       "      <td>&lt;=50K</td>\n",
       "    </tr>\n",
       "    <tr>\n",
       "      <th>3</th>\n",
       "      <td>28</td>\n",
       "      <td>Private</td>\n",
       "      <td>338409</td>\n",
       "      <td>Bachelors</td>\n",
       "      <td>13</td>\n",
       "      <td>Married-civ-spouse</td>\n",
       "      <td>Prof-specialty</td>\n",
       "      <td>Wife</td>\n",
       "      <td>Black</td>\n",
       "      <td>Female</td>\n",
       "      <td>0</td>\n",
       "      <td>0</td>\n",
       "      <td>40</td>\n",
       "      <td>Cuba</td>\n",
       "      <td>&lt;=50K</td>\n",
       "    </tr>\n",
       "    <tr>\n",
       "      <th>4</th>\n",
       "      <td>37</td>\n",
       "      <td>Private</td>\n",
       "      <td>284582</td>\n",
       "      <td>Masters</td>\n",
       "      <td>14</td>\n",
       "      <td>Married-civ-spouse</td>\n",
       "      <td>Exec-managerial</td>\n",
       "      <td>Wife</td>\n",
       "      <td>White</td>\n",
       "      <td>Female</td>\n",
       "      <td>0</td>\n",
       "      <td>0</td>\n",
       "      <td>40</td>\n",
       "      <td>United-States</td>\n",
       "      <td>&lt;=50K</td>\n",
       "    </tr>\n",
       "    <tr>\n",
       "      <th>...</th>\n",
       "      <td>...</td>\n",
       "      <td>...</td>\n",
       "      <td>...</td>\n",
       "      <td>...</td>\n",
       "      <td>...</td>\n",
       "      <td>...</td>\n",
       "      <td>...</td>\n",
       "      <td>...</td>\n",
       "      <td>...</td>\n",
       "      <td>...</td>\n",
       "      <td>...</td>\n",
       "      <td>...</td>\n",
       "      <td>...</td>\n",
       "      <td>...</td>\n",
       "      <td>...</td>\n",
       "    </tr>\n",
       "    <tr>\n",
       "      <th>32555</th>\n",
       "      <td>27</td>\n",
       "      <td>Private</td>\n",
       "      <td>257302</td>\n",
       "      <td>Assoc-acdm</td>\n",
       "      <td>12</td>\n",
       "      <td>Married-civ-spouse</td>\n",
       "      <td>Tech-support</td>\n",
       "      <td>Wife</td>\n",
       "      <td>White</td>\n",
       "      <td>Female</td>\n",
       "      <td>0</td>\n",
       "      <td>0</td>\n",
       "      <td>38</td>\n",
       "      <td>United-States</td>\n",
       "      <td>&lt;=50K</td>\n",
       "    </tr>\n",
       "    <tr>\n",
       "      <th>32556</th>\n",
       "      <td>40</td>\n",
       "      <td>Private</td>\n",
       "      <td>154374</td>\n",
       "      <td>HS-grad</td>\n",
       "      <td>9</td>\n",
       "      <td>Married-civ-spouse</td>\n",
       "      <td>Machine-op-inspct</td>\n",
       "      <td>Husband</td>\n",
       "      <td>White</td>\n",
       "      <td>Male</td>\n",
       "      <td>0</td>\n",
       "      <td>0</td>\n",
       "      <td>40</td>\n",
       "      <td>United-States</td>\n",
       "      <td>&gt;50K</td>\n",
       "    </tr>\n",
       "    <tr>\n",
       "      <th>32557</th>\n",
       "      <td>58</td>\n",
       "      <td>Private</td>\n",
       "      <td>151910</td>\n",
       "      <td>HS-grad</td>\n",
       "      <td>9</td>\n",
       "      <td>Widowed</td>\n",
       "      <td>Adm-clerical</td>\n",
       "      <td>Unmarried</td>\n",
       "      <td>White</td>\n",
       "      <td>Female</td>\n",
       "      <td>0</td>\n",
       "      <td>0</td>\n",
       "      <td>40</td>\n",
       "      <td>United-States</td>\n",
       "      <td>&lt;=50K</td>\n",
       "    </tr>\n",
       "    <tr>\n",
       "      <th>32558</th>\n",
       "      <td>22</td>\n",
       "      <td>Private</td>\n",
       "      <td>201490</td>\n",
       "      <td>HS-grad</td>\n",
       "      <td>9</td>\n",
       "      <td>Never-married</td>\n",
       "      <td>Adm-clerical</td>\n",
       "      <td>Own-child</td>\n",
       "      <td>White</td>\n",
       "      <td>Male</td>\n",
       "      <td>0</td>\n",
       "      <td>0</td>\n",
       "      <td>20</td>\n",
       "      <td>United-States</td>\n",
       "      <td>&lt;=50K</td>\n",
       "    </tr>\n",
       "    <tr>\n",
       "      <th>32559</th>\n",
       "      <td>52</td>\n",
       "      <td>Self-emp-inc</td>\n",
       "      <td>287927</td>\n",
       "      <td>HS-grad</td>\n",
       "      <td>9</td>\n",
       "      <td>Married-civ-spouse</td>\n",
       "      <td>Exec-managerial</td>\n",
       "      <td>Wife</td>\n",
       "      <td>White</td>\n",
       "      <td>Female</td>\n",
       "      <td>15024</td>\n",
       "      <td>0</td>\n",
       "      <td>40</td>\n",
       "      <td>United-States</td>\n",
       "      <td>&gt;50K</td>\n",
       "    </tr>\n",
       "  </tbody>\n",
       "</table>\n",
       "<p>32560 rows × 15 columns</p>\n",
       "</div>"
      ],
      "text/plain": [
       "       Age          Workclass  Fnlwgt    Education  Education_num  \\\n",
       "0       50   Self-emp-not-inc   83311    Bachelors             13   \n",
       "1       38            Private  215646      HS-grad              9   \n",
       "2       53            Private  234721         11th              7   \n",
       "3       28            Private  338409    Bachelors             13   \n",
       "4       37            Private  284582      Masters             14   \n",
       "...    ...                ...     ...          ...            ...   \n",
       "32555   27            Private  257302   Assoc-acdm             12   \n",
       "32556   40            Private  154374      HS-grad              9   \n",
       "32557   58            Private  151910      HS-grad              9   \n",
       "32558   22            Private  201490      HS-grad              9   \n",
       "32559   52       Self-emp-inc  287927      HS-grad              9   \n",
       "\n",
       "            Marital_status          Occupation    Relationship    Race  \\\n",
       "0       Married-civ-spouse     Exec-managerial         Husband   White   \n",
       "1                 Divorced   Handlers-cleaners   Not-in-family   White   \n",
       "2       Married-civ-spouse   Handlers-cleaners         Husband   Black   \n",
       "3       Married-civ-spouse      Prof-specialty            Wife   Black   \n",
       "4       Married-civ-spouse     Exec-managerial            Wife   White   \n",
       "...                    ...                 ...             ...     ...   \n",
       "32555   Married-civ-spouse        Tech-support            Wife   White   \n",
       "32556   Married-civ-spouse   Machine-op-inspct         Husband   White   \n",
       "32557              Widowed        Adm-clerical       Unmarried   White   \n",
       "32558        Never-married        Adm-clerical       Own-child   White   \n",
       "32559   Married-civ-spouse     Exec-managerial            Wife   White   \n",
       "\n",
       "           Sex  Capital_gain  Capital_loss  Hours_per_week  Native_country  \\\n",
       "0         Male             0             0              13   United-States   \n",
       "1         Male             0             0              40   United-States   \n",
       "2         Male             0             0              40   United-States   \n",
       "3       Female             0             0              40            Cuba   \n",
       "4       Female             0             0              40   United-States   \n",
       "...        ...           ...           ...             ...             ...   \n",
       "32555   Female             0             0              38   United-States   \n",
       "32556     Male             0             0              40   United-States   \n",
       "32557   Female             0             0              40   United-States   \n",
       "32558     Male             0             0              20   United-States   \n",
       "32559   Female         15024             0              40   United-States   \n",
       "\n",
       "       Income  \n",
       "0       <=50K  \n",
       "1       <=50K  \n",
       "2       <=50K  \n",
       "3       <=50K  \n",
       "4       <=50K  \n",
       "...       ...  \n",
       "32555   <=50K  \n",
       "32556    >50K  \n",
       "32557   <=50K  \n",
       "32558   <=50K  \n",
       "32559    >50K  \n",
       "\n",
       "[32560 rows x 15 columns]"
      ]
     },
     "execution_count": 2,
     "metadata": {},
     "output_type": "execute_result"
    }
   ],
   "source": [
    "#Impoting file & data\n",
    "df=pd.read_csv(\"Census_income\")\n",
    "df"
   ]
  },
  {
   "cell_type": "code",
   "execution_count": 3,
   "metadata": {},
   "outputs": [
    {
     "data": {
      "text/plain": [
       "Age                int64\n",
       "Workclass         object\n",
       "Fnlwgt             int64\n",
       "Education         object\n",
       "Education_num      int64\n",
       "Marital_status    object\n",
       "Occupation        object\n",
       "Relationship      object\n",
       "Race              object\n",
       "Sex               object\n",
       "Capital_gain       int64\n",
       "Capital_loss       int64\n",
       "Hours_per_week     int64\n",
       "Native_country    object\n",
       "Income            object\n",
       "dtype: object"
      ]
     },
     "execution_count": 3,
     "metadata": {},
     "output_type": "execute_result"
    }
   ],
   "source": [
    "#most of the data is in oobject types. We have to convert this into integer/Float for further analysis\n",
    "df.dtypes"
   ]
  },
  {
   "cell_type": "code",
   "execution_count": 4,
   "metadata": {},
   "outputs": [
    {
     "name": "stdout",
     "output_type": "stream",
     "text": [
      "Distinct values of each column\n",
      "- Age: [50 38 53 28 37 49 52 31 42 30 23 32 40 34 25 43 54 35 59 56 19 39 20 45\n",
      " 22 48 21 24 57 44 41 29 18 47 46 36 79 27 67 33 76 17 55 61 70 64 71 68\n",
      " 66 51 58 26 60 90 75 65 77 62 63 80 72 74 69 73 81 78 88 82 83 84 85 86\n",
      " 87]\n",
      "- Workclass: [' Self-emp-not-inc' ' Private' ' State-gov' ' Federal-gov' ' Local-gov'\n",
      " ' ?' ' Self-emp-inc' ' Without-pay' ' Never-worked']\n",
      "- Fnlwgt: [ 83311 215646 234721 ...  34066  84661 257302]\n",
      "- Education: [' Bachelors' ' HS-grad' ' 11th' ' Masters' ' 9th' ' Some-college'\n",
      " ' Assoc-acdm' ' Assoc-voc' ' 7th-8th' ' Doctorate' ' Prof-school'\n",
      " ' 5th-6th' ' 10th' ' 1st-4th' ' Preschool' ' 12th']\n",
      "- Education_num: [13  9  7 14  5 10 12 11  4 16 15  3  6  2  1  8]\n",
      "- Marital_status: [' Married-civ-spouse' ' Divorced' ' Married-spouse-absent'\n",
      " ' Never-married' ' Separated' ' Married-AF-spouse' ' Widowed']\n",
      "- Occupation: [' Exec-managerial' ' Handlers-cleaners' ' Prof-specialty'\n",
      " ' Other-service' ' Adm-clerical' ' Sales' ' Craft-repair'\n",
      " ' Transport-moving' ' Farming-fishing' ' Machine-op-inspct'\n",
      " ' Tech-support' ' ?' ' Protective-serv' ' Armed-Forces'\n",
      " ' Priv-house-serv']\n",
      "- Relationship: [' Husband' ' Not-in-family' ' Wife' ' Own-child' ' Unmarried'\n",
      " ' Other-relative']\n",
      "- Race: [' White' ' Black' ' Asian-Pac-Islander' ' Amer-Indian-Eskimo' ' Other']\n",
      "- Sex: [' Male' ' Female']\n",
      "- Capital_gain: [    0 14084  5178  5013  2407 14344 15024  7688 34095  4064  4386  7298\n",
      "  1409  3674  1055  3464  2050  2176  2174   594 20051  6849  4101  1111\n",
      "  8614  3411  2597 25236  4650  9386  2463  3103 10605  2964  3325  2580\n",
      "  3471  4865 99999  6514  1471  2329  2105  2885 25124 10520  2202  2961\n",
      " 27828  6767  2228  1506 13550  2635  5556  4787  3781  3137  3818  3942\n",
      "   914   401  2829  2977  4934  2062  2354  5455 15020  1424  3273 22040\n",
      "  4416  3908 10566   991  4931  1086  7430  6497   114  7896  2346  3418\n",
      "  3432  2907  1151  2414  2290 15831 41310  4508  2538  3456  6418  1848\n",
      "  3887  5721  9562  1455  2036  1831 11678  2936  2993  7443  6360  1797\n",
      "  1173  4687  6723  2009  6097  2653  1639 18481  7978  2387  5060]\n",
      "- Capital_loss: [   0 2042 1408 1902 1573 1887 1719 1762 1564 2179 1816 1980 1977 1876\n",
      " 1340 2206 1741 1485 2339 2415 1380 1721 2051 2377 1669 2352 1672  653\n",
      " 2392 1504 2001 1590 1651 1628 1848 1740 2002 1579 2258 1602  419 2547\n",
      " 2174 2205 1726 2444 1138 2238  625  213 1539  880 1668 1092 1594 3004\n",
      " 2231 1844  810 2824 2559 2057 1974  974 2149 1825 1735 1258 2129 2603\n",
      " 2282  323 4356 2246 1617 1648 2489 3770 1755 3683 2267 2080 2457  155\n",
      " 3900 2201 1944 2467 2163 2754 2472 1411]\n",
      "- Hours_per_week: [13 40 16 45 50 80 30 35 60 20 52 44 15 25 38 43 55 48 58 32 70  2 22 56\n",
      " 41 28 36 24 46 42 12 65  1 10 34 75 98 33 54  8  6 64 19 18 72  5  9 47\n",
      " 37 21 26 14  4 59  7 99 53 39 62 57 78 90 66 11 49 84  3 17 68 27 85 31\n",
      " 51 77 63 23 87 88 73 89 97 94 29 96 67 82 86 91 81 76 92 61 74 95]\n",
      "- Native_country: [' United-States' ' Cuba' ' Jamaica' ' India' ' ?' ' Mexico' ' South'\n",
      " ' Puerto-Rico' ' Honduras' ' England' ' Canada' ' Germany' ' Iran'\n",
      " ' Philippines' ' Italy' ' Poland' ' Columbia' ' Cambodia' ' Thailand'\n",
      " ' Ecuador' ' Laos' ' Taiwan' ' Haiti' ' Portugal' ' Dominican-Republic'\n",
      " ' El-Salvador' ' France' ' Guatemala' ' China' ' Japan' ' Yugoslavia'\n",
      " ' Peru' ' Outlying-US(Guam-USVI-etc)' ' Scotland' ' Trinadad&Tobago'\n",
      " ' Greece' ' Nicaragua' ' Vietnam' ' Hong' ' Ireland' ' Hungary'\n",
      " ' Holand-Netherlands']\n",
      "- Income: [' <=50K' ' >50K']\n"
     ]
    }
   ],
   "source": [
    "#Lets check the unique values\n",
    "print(\"Distinct values of each column\")\n",
    "for column in df:\n",
    "    print(f'- {column}: {df[column].unique()}')"
   ]
  },
  {
   "cell_type": "code",
   "execution_count": 5,
   "metadata": {},
   "outputs": [
    {
     "data": {
      "text/html": [
       "<div>\n",
       "<style scoped>\n",
       "    .dataframe tbody tr th:only-of-type {\n",
       "        vertical-align: middle;\n",
       "    }\n",
       "\n",
       "    .dataframe tbody tr th {\n",
       "        vertical-align: top;\n",
       "    }\n",
       "\n",
       "    .dataframe thead th {\n",
       "        text-align: right;\n",
       "    }\n",
       "</style>\n",
       "<table border=\"1\" class=\"dataframe\">\n",
       "  <thead>\n",
       "    <tr style=\"text-align: right;\">\n",
       "      <th></th>\n",
       "      <th>0</th>\n",
       "      <th>1</th>\n",
       "      <th>2</th>\n",
       "      <th>3</th>\n",
       "      <th>4</th>\n",
       "    </tr>\n",
       "  </thead>\n",
       "  <tbody>\n",
       "    <tr>\n",
       "      <th>Age</th>\n",
       "      <td>50</td>\n",
       "      <td>38</td>\n",
       "      <td>53</td>\n",
       "      <td>28</td>\n",
       "      <td>37</td>\n",
       "    </tr>\n",
       "    <tr>\n",
       "      <th>Workclass</th>\n",
       "      <td>Self-emp-not-inc</td>\n",
       "      <td>Private</td>\n",
       "      <td>Private</td>\n",
       "      <td>Private</td>\n",
       "      <td>Private</td>\n",
       "    </tr>\n",
       "    <tr>\n",
       "      <th>Fnlwgt</th>\n",
       "      <td>83311</td>\n",
       "      <td>215646</td>\n",
       "      <td>234721</td>\n",
       "      <td>338409</td>\n",
       "      <td>284582</td>\n",
       "    </tr>\n",
       "    <tr>\n",
       "      <th>Education</th>\n",
       "      <td>Bachelors</td>\n",
       "      <td>HS-grad</td>\n",
       "      <td>11th</td>\n",
       "      <td>Bachelors</td>\n",
       "      <td>Masters</td>\n",
       "    </tr>\n",
       "    <tr>\n",
       "      <th>Education_num</th>\n",
       "      <td>13</td>\n",
       "      <td>9</td>\n",
       "      <td>7</td>\n",
       "      <td>13</td>\n",
       "      <td>14</td>\n",
       "    </tr>\n",
       "    <tr>\n",
       "      <th>Marital_status</th>\n",
       "      <td>Married-civ-spouse</td>\n",
       "      <td>Divorced</td>\n",
       "      <td>Married-civ-spouse</td>\n",
       "      <td>Married-civ-spouse</td>\n",
       "      <td>Married-civ-spouse</td>\n",
       "    </tr>\n",
       "    <tr>\n",
       "      <th>Occupation</th>\n",
       "      <td>Exec-managerial</td>\n",
       "      <td>Handlers-cleaners</td>\n",
       "      <td>Handlers-cleaners</td>\n",
       "      <td>Prof-specialty</td>\n",
       "      <td>Exec-managerial</td>\n",
       "    </tr>\n",
       "    <tr>\n",
       "      <th>Relationship</th>\n",
       "      <td>Husband</td>\n",
       "      <td>Not-in-family</td>\n",
       "      <td>Husband</td>\n",
       "      <td>Wife</td>\n",
       "      <td>Wife</td>\n",
       "    </tr>\n",
       "    <tr>\n",
       "      <th>Race</th>\n",
       "      <td>White</td>\n",
       "      <td>White</td>\n",
       "      <td>Black</td>\n",
       "      <td>Black</td>\n",
       "      <td>White</td>\n",
       "    </tr>\n",
       "    <tr>\n",
       "      <th>Sex</th>\n",
       "      <td>Male</td>\n",
       "      <td>Male</td>\n",
       "      <td>Male</td>\n",
       "      <td>Female</td>\n",
       "      <td>Female</td>\n",
       "    </tr>\n",
       "    <tr>\n",
       "      <th>Capital_gain</th>\n",
       "      <td>0</td>\n",
       "      <td>0</td>\n",
       "      <td>0</td>\n",
       "      <td>0</td>\n",
       "      <td>0</td>\n",
       "    </tr>\n",
       "    <tr>\n",
       "      <th>Capital_loss</th>\n",
       "      <td>0</td>\n",
       "      <td>0</td>\n",
       "      <td>0</td>\n",
       "      <td>0</td>\n",
       "      <td>0</td>\n",
       "    </tr>\n",
       "    <tr>\n",
       "      <th>Hours_per_week</th>\n",
       "      <td>13</td>\n",
       "      <td>40</td>\n",
       "      <td>40</td>\n",
       "      <td>40</td>\n",
       "      <td>40</td>\n",
       "    </tr>\n",
       "    <tr>\n",
       "      <th>Native_country</th>\n",
       "      <td>United-States</td>\n",
       "      <td>United-States</td>\n",
       "      <td>United-States</td>\n",
       "      <td>Cuba</td>\n",
       "      <td>United-States</td>\n",
       "    </tr>\n",
       "    <tr>\n",
       "      <th>Income</th>\n",
       "      <td>&lt;=50K</td>\n",
       "      <td>&lt;=50K</td>\n",
       "      <td>&lt;=50K</td>\n",
       "      <td>&lt;=50K</td>\n",
       "      <td>&lt;=50K</td>\n",
       "    </tr>\n",
       "  </tbody>\n",
       "</table>\n",
       "</div>"
      ],
      "text/plain": [
       "                                  0                   1                    2  \\\n",
       "Age                              50                  38                   53   \n",
       "Workclass          Self-emp-not-inc             Private              Private   \n",
       "Fnlwgt                        83311              215646               234721   \n",
       "Education                 Bachelors             HS-grad                 11th   \n",
       "Education_num                    13                   9                    7   \n",
       "Marital_status   Married-civ-spouse            Divorced   Married-civ-spouse   \n",
       "Occupation          Exec-managerial   Handlers-cleaners    Handlers-cleaners   \n",
       "Relationship                Husband       Not-in-family              Husband   \n",
       "Race                          White               White                Black   \n",
       "Sex                            Male                Male                 Male   \n",
       "Capital_gain                      0                   0                    0   \n",
       "Capital_loss                      0                   0                    0   \n",
       "Hours_per_week                   13                  40                   40   \n",
       "Native_country        United-States       United-States        United-States   \n",
       "Income                        <=50K               <=50K                <=50K   \n",
       "\n",
       "                                  3                    4  \n",
       "Age                              28                   37  \n",
       "Workclass                   Private              Private  \n",
       "Fnlwgt                       338409               284582  \n",
       "Education                 Bachelors              Masters  \n",
       "Education_num                    13                   14  \n",
       "Marital_status   Married-civ-spouse   Married-civ-spouse  \n",
       "Occupation           Prof-specialty      Exec-managerial  \n",
       "Relationship                   Wife                 Wife  \n",
       "Race                          Black                White  \n",
       "Sex                          Female               Female  \n",
       "Capital_gain                      0                    0  \n",
       "Capital_loss                      0                    0  \n",
       "Hours_per_week                   40                   40  \n",
       "Native_country                 Cuba        United-States  \n",
       "Income                        <=50K                <=50K  "
      ]
     },
     "execution_count": 5,
     "metadata": {},
     "output_type": "execute_result"
    }
   ],
   "source": [
    "df.head().T"
   ]
  },
  {
   "cell_type": "markdown",
   "metadata": {},
   "source": [
    "# Exploratory data analysis for better understaning & cleaning the data"
   ]
  },
  {
   "cell_type": "code",
   "execution_count": 6,
   "metadata": {},
   "outputs": [
    {
     "data": {
      "text/plain": [
       "Age               0\n",
       "Workclass         0\n",
       "Fnlwgt            0\n",
       "Education         0\n",
       "Education_num     0\n",
       "Marital_status    0\n",
       "Occupation        0\n",
       "Relationship      0\n",
       "Race              0\n",
       "Sex               0\n",
       "Capital_gain      0\n",
       "Capital_loss      0\n",
       "Hours_per_week    0\n",
       "Native_country    0\n",
       "Income            0\n",
       "dtype: int64"
      ]
     },
     "execution_count": 6,
     "metadata": {},
     "output_type": "execute_result"
    }
   ],
   "source": [
    "df.isnull().sum()"
   ]
  },
  {
   "cell_type": "code",
   "execution_count": 7,
   "metadata": {},
   "outputs": [
    {
     "data": {
      "text/plain": [
       "<AxesSubplot:>"
      ]
     },
     "execution_count": 7,
     "metadata": {},
     "output_type": "execute_result"
    },
    {
     "data": {
      "image/png": "[encoded data removed]",
      "text/plain": [
       "<Figure size 432x288 with 2 Axes>"
      ]
     },
     "metadata": {
      "needs_background": "light"
     },
     "output_type": "display_data"
    }
   ],
   "source": [
    "sns.heatmap(df.isnull()) # No Null Value"
   ]
  },
  {
   "cell_type": "code",
   "execution_count": 8,
   "metadata": {},
   "outputs": [
    {
     "data": {
      "text/html": [
       "<div>\n",
       "<style scoped>\n",
       "    .dataframe tbody tr th:only-of-type {\n",
       "        vertical-align: middle;\n",
       "    }\n",
       "\n",
       "    .dataframe tbody tr th {\n",
       "        vertical-align: top;\n",
       "    }\n",
       "\n",
       "    .dataframe thead th {\n",
       "        text-align: right;\n",
       "    }\n",
       "</style>\n",
       "<table border=\"1\" class=\"dataframe\">\n",
       "  <thead>\n",
       "    <tr style=\"text-align: right;\">\n",
       "      <th></th>\n",
       "      <th>Age</th>\n",
       "      <th>Fnlwgt</th>\n",
       "      <th>Education_num</th>\n",
       "      <th>Capital_gain</th>\n",
       "      <th>Capital_loss</th>\n",
       "      <th>Hours_per_week</th>\n",
       "    </tr>\n",
       "  </thead>\n",
       "  <tbody>\n",
       "    <tr>\n",
       "      <th>count</th>\n",
       "      <td>32560.000000</td>\n",
       "      <td>3.256000e+04</td>\n",
       "      <td>32560.000000</td>\n",
       "      <td>32560.000000</td>\n",
       "      <td>32560.000000</td>\n",
       "      <td>32560.000000</td>\n",
       "    </tr>\n",
       "    <tr>\n",
       "      <th>mean</th>\n",
       "      <td>38.581634</td>\n",
       "      <td>1.897818e+05</td>\n",
       "      <td>10.080590</td>\n",
       "      <td>1077.615172</td>\n",
       "      <td>87.306511</td>\n",
       "      <td>40.437469</td>\n",
       "    </tr>\n",
       "    <tr>\n",
       "      <th>std</th>\n",
       "      <td>13.640642</td>\n",
       "      <td>1.055498e+05</td>\n",
       "      <td>2.572709</td>\n",
       "      <td>7385.402999</td>\n",
       "      <td>402.966116</td>\n",
       "      <td>12.347618</td>\n",
       "    </tr>\n",
       "    <tr>\n",
       "      <th>min</th>\n",
       "      <td>17.000000</td>\n",
       "      <td>1.228500e+04</td>\n",
       "      <td>1.000000</td>\n",
       "      <td>0.000000</td>\n",
       "      <td>0.000000</td>\n",
       "      <td>1.000000</td>\n",
       "    </tr>\n",
       "    <tr>\n",
       "      <th>25%</th>\n",
       "      <td>28.000000</td>\n",
       "      <td>1.178315e+05</td>\n",
       "      <td>9.000000</td>\n",
       "      <td>0.000000</td>\n",
       "      <td>0.000000</td>\n",
       "      <td>40.000000</td>\n",
       "    </tr>\n",
       "    <tr>\n",
       "      <th>50%</th>\n",
       "      <td>37.000000</td>\n",
       "      <td>1.783630e+05</td>\n",
       "      <td>10.000000</td>\n",
       "      <td>0.000000</td>\n",
       "      <td>0.000000</td>\n",
       "      <td>40.000000</td>\n",
       "    </tr>\n",
       "    <tr>\n",
       "      <th>75%</th>\n",
       "      <td>48.000000</td>\n",
       "      <td>2.370545e+05</td>\n",
       "      <td>12.000000</td>\n",
       "      <td>0.000000</td>\n",
       "      <td>0.000000</td>\n",
       "      <td>45.000000</td>\n",
       "    </tr>\n",
       "    <tr>\n",
       "      <th>max</th>\n",
       "      <td>90.000000</td>\n",
       "      <td>1.484705e+06</td>\n",
       "      <td>16.000000</td>\n",
       "      <td>99999.000000</td>\n",
       "      <td>4356.000000</td>\n",
       "      <td>99.000000</td>\n",
       "    </tr>\n",
       "  </tbody>\n",
       "</table>\n",
       "</div>"
      ],
      "text/plain": [
       "                Age        Fnlwgt  Education_num  Capital_gain  Capital_loss  \\\n",
       "count  32560.000000  3.256000e+04   32560.000000  32560.000000  32560.000000   \n",
       "mean      38.581634  1.897818e+05      10.080590   1077.615172     87.306511   \n",
       "std       13.640642  1.055498e+05       2.572709   7385.402999    402.966116   \n",
       "min       17.000000  1.228500e+04       1.000000      0.000000      0.000000   \n",
       "25%       28.000000  1.178315e+05       9.000000      0.000000      0.000000   \n",
       "50%       37.000000  1.783630e+05      10.000000      0.000000      0.000000   \n",
       "75%       48.000000  2.370545e+05      12.000000      0.000000      0.000000   \n",
       "max       90.000000  1.484705e+06      16.000000  99999.000000   4356.000000   \n",
       "\n",
       "       Hours_per_week  \n",
       "count    32560.000000  \n",
       "mean        40.437469  \n",
       "std         12.347618  \n",
       "min          1.000000  \n",
       "25%         40.000000  \n",
       "50%         40.000000  \n",
       "75%         45.000000  \n",
       "max         99.000000  "
      ]
     },
     "execution_count": 8,
     "metadata": {},
     "output_type": "execute_result"
    }
   ],
   "source": [
    "df.describe()"
   ]
  },
  {
   "cell_type": "markdown",
   "metadata": {},
   "source": [
    "Looking at the data seems liks there is a huge skewness available in the data and all the columns have huge vriation between the 75% data and the maximum data. lso the  capital gain and capital loss the mean is greater than median that means the data is rightly skewed. "
   ]
  },
  {
   "cell_type": "code",
   "execution_count": 9,
   "metadata": {},
   "outputs": [
    {
     "data": {
      "text/plain": [
       "<AxesSubplot:xlabel='Age', ylabel='Density'>"
      ]
     },
     "execution_count": 9,
     "metadata": {},
     "output_type": "execute_result"
    },
    {
     "data": {
      "image/png": "[encoded data removed]",
      "text/plain": [
       "<Figure size 432x288 with 1 Axes>"
      ]
     },
     "metadata": {
      "needs_background": "light"
     },
     "output_type": "display_data"
    }
   ],
   "source": [
    "sns.distplot(x=df['Age'], axlabel='Age', color='Green')"
   ]
  },
  {
   "cell_type": "code",
   "execution_count": 10,
   "metadata": {},
   "outputs": [
    {
     "data": {
      "text/plain": [
       "<AxesSubplot:xlabel='fnlwgt', ylabel='Density'>"
      ]
     },
     "execution_count": 10,
     "metadata": {},
     "output_type": "execute_result"
    },
    {
     "data": {
      "image/png": "[encoded data removed]",
      "text/plain": [
       "<Figure size 432x288 with 1 Axes>"
      ]
     },
     "metadata": {
      "needs_background": "light"
     },
     "output_type": "display_data"
    }
   ],
   "source": [
    "sns.distplot(x=df['Fnlwgt'], axlabel='fnlwgt', color='Red')"
   ]
  },
  {
   "cell_type": "code",
   "execution_count": 11,
   "metadata": {},
   "outputs": [
    {
     "data": {
      "text/plain": [
       "<AxesSubplot:xlabel='Education Number', ylabel='Density'>"
      ]
     },
     "execution_count": 11,
     "metadata": {},
     "output_type": "execute_result"
    },
    {
     "data": {
      "image/png": "[encoded data removed]",
      "text/plain": [
       "<Figure size 432x288 with 1 Axes>"
      ]
     },
     "metadata": {
      "needs_background": "light"
     },
     "output_type": "display_data"
    }
   ],
   "source": [
    "sns.distplot(x = df['Education_num'], axlabel='Education Number', color = 'darkblue')"
   ]
  },
  {
   "cell_type": "code",
   "execution_count": 12,
   "metadata": {},
   "outputs": [
    {
     "data": {
      "text/plain": [
       "<AxesSubplot:xlabel='Capital_gain', ylabel='Density'>"
      ]
     },
     "execution_count": 12,
     "metadata": {},
     "output_type": "execute_result"
    },
    {
     "data": {
      "image/png": "[encoded data removed]",
      "text/plain": [
       "<Figure size 432x288 with 1 Axes>"
      ]
     },
     "metadata": {
      "needs_background": "light"
     },
     "output_type": "display_data"
    }
   ],
   "source": [
    "sns.distplot(x=df['Capital_gain'], axlabel='Capital_gain', color='Blue')"
   ]
  },
  {
   "cell_type": "code",
   "execution_count": 13,
   "metadata": {},
   "outputs": [
    {
     "data": {
      "text/plain": [
       "<AxesSubplot:xlabel='Capital_loss', ylabel='Density'>"
      ]
     },
     "execution_count": 13,
     "metadata": {},
     "output_type": "execute_result"
    },
    {
     "data": {
      "image/png": "[encoded data removed]",
      "text/plain": [
       "<Figure size 432x288 with 1 Axes>"
      ]
     },
     "metadata": {
      "needs_background": "light"
     },
     "output_type": "display_data"
    }
   ],
   "source": [
    "sns.distplot(x=df['Capital_loss'], axlabel='Capital_loss', color='Black')"
   ]
  },
  {
   "cell_type": "code",
   "execution_count": 14,
   "metadata": {},
   "outputs": [
    {
     "data": {
      "text/plain": [
       "<AxesSubplot:xlabel='Hours_per_week', ylabel='Density'>"
      ]
     },
     "execution_count": 14,
     "metadata": {},
     "output_type": "execute_result"
    },
    {
     "data": {
      "image/png": "[encoded data removed]",
      "text/plain": [
       "<Figure size 432x288 with 1 Axes>"
      ]
     },
     "metadata": {
      "needs_background": "light"
     },
     "output_type": "display_data"
    }
   ],
   "source": [
    "sns.distplot(x=df['Hours_per_week'], axlabel='Hours_per_week', color='Purple')"
   ]
  },
  {
   "cell_type": "code",
   "execution_count": 15,
   "metadata": {},
   "outputs": [
    {
     "data": {
      "image/png": "[encoded data removed]",
      "text/plain": [
       "<Figure size 1152x1152 with 6 Axes>"
      ]
     },
     "metadata": {
      "needs_background": "light"
     },
     "output_type": "display_data"
    }
   ],
   "source": [
    "collist=(\"Age\",\"Fnlwgt\",\"Education_num\",\"Capital_gain\",\"Capital_loss\",\"Hours_per_week\")\n",
    "ncol=5\n",
    "nrows=7\n",
    "plt.figure(figsize=(16,16))\n",
    "for i in range(0,len(collist)):\n",
    "    plt.subplot(nrows,ncol,i+1)\n",
    "    sns.distplot(df[collist[i]])\n",
    "    plt.tight_layout()"
   ]
  },
  {
   "cell_type": "markdown",
   "metadata": {},
   "source": [
    "Skewness is available which we needs to remove"
   ]
  },
  {
   "cell_type": "code",
   "execution_count": 16,
   "metadata": {},
   "outputs": [
    {
     "data": {
      "text/plain": [
       "<AxesSubplot:xlabel='Age', ylabel='count'>"
      ]
     },
     "execution_count": 16,
     "metadata": {},
     "output_type": "execute_result"
    },
    {
     "data": {
      "image/png": "[encoded data removed]",
      "text/plain": [
       "<Figure size 1080x1080 with 1 Axes>"
      ]
     },
     "metadata": {
      "needs_background": "light"
     },
     "output_type": "display_data"
    }
   ],
   "source": [
    "f, ax = plt.subplots(figsize=(15, 15))\n",
    "df1 = pd.cut(x=df['Age'], bins=[10, 19, 29, 39,49,59,69,79,89,99,109])\n",
    "sns.countplot(x=df1,hue=df['Income'])"
   ]
  },
  {
   "cell_type": "markdown",
   "metadata": {},
   "source": [
    "The age group of 39-49 have more people which are earning more than 50k "
   ]
  },
  {
   "cell_type": "code",
   "execution_count": 17,
   "metadata": {},
   "outputs": [
    {
     "data": {
      "text/plain": [
       "(array([ 0,  1,  2,  3,  4,  5,  6,  7,  8,  9, 10, 11, 12, 13, 14, 15]),\n",
       " [Text(0, 0, ' Bachelors'),\n",
       "  Text(1, 0, ' HS-grad'),\n",
       "  Text(2, 0, ' 11th'),\n",
       "  Text(3, 0, ' Masters'),\n",
       "  Text(4, 0, ' 9th'),\n",
       "  Text(5, 0, ' Some-college'),\n",
       "  Text(6, 0, ' Assoc-acdm'),\n",
       "  Text(7, 0, ' Assoc-voc'),\n",
       "  Text(8, 0, ' 7th-8th'),\n",
       "  Text(9, 0, ' Doctorate'),\n",
       "  Text(10, 0, ' Prof-school'),\n",
       "  Text(11, 0, ' 5th-6th'),\n",
       "  Text(12, 0, ' 10th'),\n",
       "  Text(13, 0, ' 1st-4th'),\n",
       "  Text(14, 0, ' Preschool'),\n",
       "  Text(15, 0, ' 12th')])"
      ]
     },
     "execution_count": 17,
     "metadata": {},
     "output_type": "execute_result"
    },
    {
     "data": {
      "image/png": "[encoded data removed]",
      "text/plain": [
       "<Figure size 432x288 with 1 Axes>"
      ]
     },
     "metadata": {
      "needs_background": "light"
     },
     "output_type": "display_data"
    }
   ],
   "source": [
    "le=LabelEncoder()\n",
    "df[\"Income\"]=le.fit_transform(df[\"Income\"].astype(str))\n",
    "sns.barplot(x='Education',y='Income',data=df)\n",
    "plt.xticks(rotation = 90)"
   ]
  },
  {
   "cell_type": "markdown",
   "metadata": {},
   "source": [
    "The doctors and prof-School have high earning than any others"
   ]
  },
  {
   "cell_type": "code",
   "execution_count": 18,
   "metadata": {},
   "outputs": [
    {
     "data": {
      "image/png": "[encoded data removed]",
      "text/plain": [
       "<Figure size 432x288 with 1 Axes>"
      ]
     },
     "metadata": {
      "needs_background": "light"
     },
     "output_type": "display_data"
    }
   ],
   "source": [
    "sns.barplot(x = df['Marital_status'], y = df['Income'])\n",
    "plt.xticks(rotation = 90);"
   ]
  },
  {
   "cell_type": "markdown",
   "metadata": {},
   "source": [
    "The mrried people income is more in comparison to others."
   ]
  },
  {
   "cell_type": "code",
   "execution_count": 19,
   "metadata": {},
   "outputs": [
    {
     "data": {
      "image/png": "[encoded data removed]",
      "text/plain": [
       "<Figure size 432x288 with 1 Axes>"
      ]
     },
     "metadata": {
      "needs_background": "light"
     },
     "output_type": "display_data"
    }
   ],
   "source": [
    "sns.barplot(x = df['Workclass'], y = df['Income'])\n",
    "plt.xticks(rotation = 90);"
   ]
  },
  {
   "cell_type": "markdown",
   "metadata": {},
   "source": [
    "The self empoloyed have higher income"
   ]
  },
  {
   "cell_type": "code",
   "execution_count": 20,
   "metadata": {},
   "outputs": [
    {
     "data": {
      "text/plain": [
       "(array([ 0,  1,  2,  3,  4,  5,  6,  7,  8,  9, 10, 11, 12, 13, 14]),\n",
       " [Text(0, 0, ' Exec-managerial'),\n",
       "  Text(1, 0, ' Handlers-cleaners'),\n",
       "  Text(2, 0, ' Prof-specialty'),\n",
       "  Text(3, 0, ' Other-service'),\n",
       "  Text(4, 0, ' Adm-clerical'),\n",
       "  Text(5, 0, ' Sales'),\n",
       "  Text(6, 0, ' Craft-repair'),\n",
       "  Text(7, 0, ' Transport-moving'),\n",
       "  Text(8, 0, ' Farming-fishing'),\n",
       "  Text(9, 0, ' Machine-op-inspct'),\n",
       "  Text(10, 0, ' Tech-support'),\n",
       "  Text(11, 0, ' ?'),\n",
       "  Text(12, 0, ' Protective-serv'),\n",
       "  Text(13, 0, ' Armed-Forces'),\n",
       "  Text(14, 0, ' Priv-house-serv')])"
      ]
     },
     "execution_count": 20,
     "metadata": {},
     "output_type": "execute_result"
    },
    {
     "data": {
      "image/png": "[encoded data removed]",
      "text/plain": [
       "<Figure size 432x288 with 1 Axes>"
      ]
     },
     "metadata": {
      "needs_background": "light"
     },
     "output_type": "display_data"
    }
   ],
   "source": [
    "sns.barplot(x='Occupation',y='Income',data=df)\n",
    "plt.xticks(rotation = 90)"
   ]
  },
  {
   "cell_type": "markdown",
   "metadata": {},
   "source": [
    "The People at the mnagerial positions and professors-specility has high income group than others"
   ]
  },
  {
   "cell_type": "code",
   "execution_count": 21,
   "metadata": {},
   "outputs": [
    {
     "data": {
      "text/plain": [
       "<AxesSubplot:xlabel='Sex', ylabel='Income'>"
      ]
     },
     "execution_count": 21,
     "metadata": {},
     "output_type": "execute_result"
    },
    {
     "data": {
      "image/png": "[encoded data removed]",
      "text/plain": [
       "<Figure size 432x288 with 1 Axes>"
      ]
     },
     "metadata": {
      "needs_background": "light"
     },
     "output_type": "display_data"
    }
   ],
   "source": [
    "sns.barplot(x='Sex',y='Income',data=df)"
   ]
  },
  {
   "cell_type": "markdown",
   "metadata": {},
   "source": [
    "Male has three times more income than female"
   ]
  },
  {
   "cell_type": "code",
   "execution_count": 23,
   "metadata": {},
   "outputs": [
    {
     "data": {
      "text/plain": [
       "<seaborn.axisgrid.FacetGrid at 0x1683f3f45b0>"
      ]
     },
     "execution_count": 23,
     "metadata": {},
     "output_type": "execute_result"
    },
    {
     "data": {
      "image/png": "[encoded data removed]",
      "text/plain": [
       "<Figure size 1800x360 with 5 Axes>"
      ]
     },
     "metadata": {
      "needs_background": "light"
     },
     "output_type": "display_data"
    }
   ],
   "source": [
    "sns.catplot(x = 'Sex', y = 'Income', data = df, kind = 'bar', col = 'Race',\n",
    "            height = 5, aspect = 1)"
   ]
  },
  {
   "cell_type": "code",
   "execution_count": 24,
   "metadata": {},
   "outputs": [
    {
     "data": {
      "image/png": "[encoded data removed]",
      "text/plain": [
       "<Figure size 1080x1080 with 1 Axes>"
      ]
     },
     "metadata": {
      "needs_background": "light"
     },
     "output_type": "display_data"
    }
   ],
   "source": [
    "f, ax = plt.subplots(figsize=(15, 15)) \n",
    "sns.barplot(x='Native_country',y='Income',data=df)\n",
    "plt.xticks(rotation = 90);"
   ]
  },
  {
   "cell_type": "code",
   "execution_count": 25,
   "metadata": {},
   "outputs": [
    {
     "data": {
      "text/html": [
       "<div>\n",
       "<style scoped>\n",
       "    .dataframe tbody tr th:only-of-type {\n",
       "        vertical-align: middle;\n",
       "    }\n",
       "\n",
       "    .dataframe tbody tr th {\n",
       "        vertical-align: top;\n",
       "    }\n",
       "\n",
       "    .dataframe thead th {\n",
       "        text-align: right;\n",
       "    }\n",
       "</style>\n",
       "<table border=\"1\" class=\"dataframe\">\n",
       "  <thead>\n",
       "    <tr style=\"text-align: right;\">\n",
       "      <th></th>\n",
       "      <th>Age</th>\n",
       "      <th>Workclass</th>\n",
       "      <th>Fnlwgt</th>\n",
       "      <th>Education</th>\n",
       "      <th>Education_num</th>\n",
       "      <th>Marital_status</th>\n",
       "      <th>Occupation</th>\n",
       "      <th>Relationship</th>\n",
       "      <th>Race</th>\n",
       "      <th>Sex</th>\n",
       "      <th>Capital_gain</th>\n",
       "      <th>Capital_loss</th>\n",
       "      <th>Hours_per_week</th>\n",
       "      <th>Native_country</th>\n",
       "      <th>Income</th>\n",
       "    </tr>\n",
       "  </thead>\n",
       "  <tbody>\n",
       "    <tr>\n",
       "      <th>0</th>\n",
       "      <td>50</td>\n",
       "      <td>Self-emp-not-inc</td>\n",
       "      <td>83311</td>\n",
       "      <td>Bachelors</td>\n",
       "      <td>13</td>\n",
       "      <td>Married-civ-spouse</td>\n",
       "      <td>Exec-managerial</td>\n",
       "      <td>Husband</td>\n",
       "      <td>White</td>\n",
       "      <td>Male</td>\n",
       "      <td>0</td>\n",
       "      <td>0</td>\n",
       "      <td>13</td>\n",
       "      <td>United-States</td>\n",
       "      <td>0</td>\n",
       "    </tr>\n",
       "    <tr>\n",
       "      <th>1</th>\n",
       "      <td>38</td>\n",
       "      <td>Private</td>\n",
       "      <td>215646</td>\n",
       "      <td>HS-grad</td>\n",
       "      <td>9</td>\n",
       "      <td>Divorced</td>\n",
       "      <td>Handlers-cleaners</td>\n",
       "      <td>Not-in-family</td>\n",
       "      <td>White</td>\n",
       "      <td>Male</td>\n",
       "      <td>0</td>\n",
       "      <td>0</td>\n",
       "      <td>40</td>\n",
       "      <td>United-States</td>\n",
       "      <td>0</td>\n",
       "    </tr>\n",
       "    <tr>\n",
       "      <th>2</th>\n",
       "      <td>53</td>\n",
       "      <td>Private</td>\n",
       "      <td>234721</td>\n",
       "      <td>11th</td>\n",
       "      <td>7</td>\n",
       "      <td>Married-civ-spouse</td>\n",
       "      <td>Handlers-cleaners</td>\n",
       "      <td>Husband</td>\n",
       "      <td>Black</td>\n",
       "      <td>Male</td>\n",
       "      <td>0</td>\n",
       "      <td>0</td>\n",
       "      <td>40</td>\n",
       "      <td>United-States</td>\n",
       "      <td>0</td>\n",
       "    </tr>\n",
       "    <tr>\n",
       "      <th>3</th>\n",
       "      <td>28</td>\n",
       "      <td>Private</td>\n",
       "      <td>338409</td>\n",
       "      <td>Bachelors</td>\n",
       "      <td>13</td>\n",
       "      <td>Married-civ-spouse</td>\n",
       "      <td>Prof-specialty</td>\n",
       "      <td>Wife</td>\n",
       "      <td>Black</td>\n",
       "      <td>Female</td>\n",
       "      <td>0</td>\n",
       "      <td>0</td>\n",
       "      <td>40</td>\n",
       "      <td>Cuba</td>\n",
       "      <td>0</td>\n",
       "    </tr>\n",
       "    <tr>\n",
       "      <th>4</th>\n",
       "      <td>37</td>\n",
       "      <td>Private</td>\n",
       "      <td>284582</td>\n",
       "      <td>Masters</td>\n",
       "      <td>14</td>\n",
       "      <td>Married-civ-spouse</td>\n",
       "      <td>Exec-managerial</td>\n",
       "      <td>Wife</td>\n",
       "      <td>White</td>\n",
       "      <td>Female</td>\n",
       "      <td>0</td>\n",
       "      <td>0</td>\n",
       "      <td>40</td>\n",
       "      <td>United-States</td>\n",
       "      <td>0</td>\n",
       "    </tr>\n",
       "  </tbody>\n",
       "</table>\n",
       "</div>"
      ],
      "text/plain": [
       "   Age          Workclass  Fnlwgt   Education  Education_num  \\\n",
       "0   50   Self-emp-not-inc   83311   Bachelors             13   \n",
       "1   38            Private  215646     HS-grad              9   \n",
       "2   53            Private  234721        11th              7   \n",
       "3   28            Private  338409   Bachelors             13   \n",
       "4   37            Private  284582     Masters             14   \n",
       "\n",
       "        Marital_status          Occupation    Relationship    Race      Sex  \\\n",
       "0   Married-civ-spouse     Exec-managerial         Husband   White     Male   \n",
       "1             Divorced   Handlers-cleaners   Not-in-family   White     Male   \n",
       "2   Married-civ-spouse   Handlers-cleaners         Husband   Black     Male   \n",
       "3   Married-civ-spouse      Prof-specialty            Wife   Black   Female   \n",
       "4   Married-civ-spouse     Exec-managerial            Wife   White   Female   \n",
       "\n",
       "   Capital_gain  Capital_loss  Hours_per_week  Native_country  Income  \n",
       "0             0             0              13   United-States       0  \n",
       "1             0             0              40   United-States       0  \n",
       "2             0             0              40   United-States       0  \n",
       "3             0             0              40            Cuba       0  \n",
       "4             0             0              40   United-States       0  "
      ]
     },
     "execution_count": 25,
     "metadata": {},
     "output_type": "execute_result"
    }
   ],
   "source": [
    "df.head()"
   ]
  },
  {
   "cell_type": "code",
   "execution_count": 26,
   "metadata": {},
   "outputs": [
    {
     "data": {
      "text/plain": [
       "Age                0.558738\n",
       "Fnlwgt             1.446972\n",
       "Education_num     -0.311630\n",
       "Capital_gain      11.953690\n",
       "Capital_loss       4.594549\n",
       "Hours_per_week     0.227636\n",
       "Income             1.212383\n",
       "dtype: float64"
      ]
     },
     "execution_count": 26,
     "metadata": {},
     "output_type": "execute_result"
    }
   ],
   "source": [
    "#Lets Check the skewness and remove them\n",
    "df.skew()"
   ]
  },
  {
   "cell_type": "code",
   "execution_count": 27,
   "metadata": {},
   "outputs": [],
   "source": [
    "import numpy as np\n",
    "skew=(\"Age\",\"Fnlwgt\",\"Education_num\",\"Capital_gain\",\"Capital_loss\",\"Hours_per_week\")\n",
    "for i in skew:\n",
    "    if df.skew().loc[i]>0.55:\n",
    "        df[i]=np.log1p(df[i])"
   ]
  },
  {
   "cell_type": "code",
   "execution_count": 28,
   "metadata": {},
   "outputs": [
    {
     "data": {
      "text/plain": [
       "Age              -0.113322\n",
       "Fnlwgt           -0.842559\n",
       "Education_num    -0.311630\n",
       "Capital_gain      3.096803\n",
       "Capital_loss      4.307460\n",
       "Hours_per_week    0.227636\n",
       "Income            1.212383\n",
       "dtype: float64"
      ]
     },
     "execution_count": 28,
     "metadata": {},
     "output_type": "execute_result"
    }
   ],
   "source": [
    "df.skew()"
   ]
  },
  {
   "cell_type": "code",
   "execution_count": 29,
   "metadata": {},
   "outputs": [
    {
     "data": {
      "text/plain": [
       "Age               float64\n",
       "Workclass          object\n",
       "Fnlwgt            float64\n",
       "Education          object\n",
       "Education_num       int64\n",
       "Marital_status     object\n",
       "Occupation         object\n",
       "Relationship       object\n",
       "Race               object\n",
       "Sex                object\n",
       "Capital_gain      float64\n",
       "Capital_loss      float64\n",
       "Hours_per_week      int64\n",
       "Native_country     object\n",
       "Income              int32\n",
       "dtype: object"
      ]
     },
     "execution_count": 29,
     "metadata": {},
     "output_type": "execute_result"
    }
   ],
   "source": [
    "df.dtypes"
   ]
  },
  {
   "cell_type": "code",
   "execution_count": 30,
   "metadata": {},
   "outputs": [],
   "source": [
    "#Coverting object data in float/Integer by using label Encoding  \n",
    "le=LabelEncoder()\n",
    "df[\"Workclass\"]=le.fit_transform(df[\"Workclass\"].astype(str))\n",
    "df[\"Education\"]=le.fit_transform(df[\"Education\"].astype(str))\n",
    "df[\"Marital_status\"]=le.fit_transform(df[\"Marital_status\"].astype(str))\n",
    "df[\"Occupation\"]=le.fit_transform(df[\"Occupation\"].astype(str))\n",
    "df[\"Relationship\"]=le.fit_transform(df[\"Relationship\"].astype(str))\n",
    "df[\"Race\"]=le.fit_transform(df[\"Race\"].astype(str))\n",
    "df[\"Sex\"]=le.fit_transform(df[\"Sex\"].astype(str))\n",
    "df[\"Native_country\"]=le.fit_transform(df[\"Native_country\"].astype(str))"
   ]
  },
  {
   "cell_type": "code",
   "execution_count": 31,
   "metadata": {},
   "outputs": [
    {
     "data": {
      "text/plain": [
       "Age               float64\n",
       "Workclass           int32\n",
       "Fnlwgt            float64\n",
       "Education           int32\n",
       "Education_num       int64\n",
       "Marital_status      int32\n",
       "Occupation          int32\n",
       "Relationship        int32\n",
       "Race                int32\n",
       "Sex                 int32\n",
       "Capital_gain      float64\n",
       "Capital_loss      float64\n",
       "Hours_per_week      int64\n",
       "Native_country      int32\n",
       "Income              int32\n",
       "dtype: object"
      ]
     },
     "execution_count": 31,
     "metadata": {},
     "output_type": "execute_result"
    }
   ],
   "source": [
    "df.dtypes"
   ]
  },
  {
   "cell_type": "code",
   "execution_count": 32,
   "metadata": {},
   "outputs": [
    {
     "data": {
      "text/plain": [
       "Age                  AxesSubplot(0.125,0.749828;0.0945122x0.130172)\n",
       "Workclass         AxesSubplot(0.238415,0.749828;0.0945122x0.130172)\n",
       "Fnlwgt            AxesSubplot(0.351829,0.749828;0.0945122x0.130172)\n",
       "Education         AxesSubplot(0.465244,0.749828;0.0945122x0.130172)\n",
       "Education_num     AxesSubplot(0.578659,0.749828;0.0945122x0.130172)\n",
       "Marital_status    AxesSubplot(0.692073,0.749828;0.0945122x0.130172)\n",
       "Occupation        AxesSubplot(0.805488,0.749828;0.0945122x0.130172)\n",
       "Relationship         AxesSubplot(0.125,0.593621;0.0945122x0.130172)\n",
       "Race              AxesSubplot(0.238415,0.593621;0.0945122x0.130172)\n",
       "Sex               AxesSubplot(0.351829,0.593621;0.0945122x0.130172)\n",
       "Capital_gain      AxesSubplot(0.465244,0.593621;0.0945122x0.130172)\n",
       "Capital_loss      AxesSubplot(0.578659,0.593621;0.0945122x0.130172)\n",
       "Hours_per_week    AxesSubplot(0.692073,0.593621;0.0945122x0.130172)\n",
       "Native_country    AxesSubplot(0.805488,0.593621;0.0945122x0.130172)\n",
       "Income               AxesSubplot(0.125,0.437414;0.0945122x0.130172)\n",
       "dtype: object"
      ]
     },
     "execution_count": 32,
     "metadata": {},
     "output_type": "execute_result"
    },
    {
     "data": {
      "image/png": "[encoded data removed]",
      "text/plain": [
       "<Figure size 1080x1080 with 35 Axes>"
      ]
     },
     "metadata": {
      "needs_background": "light"
     },
     "output_type": "display_data"
    }
   ],
   "source": [
    "#Checking outliers\n",
    "df.plot(kind=\"box\",subplots=True,layout=(5,7),figsize=(15,15))"
   ]
  },
  {
   "cell_type": "code",
   "execution_count": 33,
   "metadata": {},
   "outputs": [
    {
     "data": {
      "text/plain": [
       "array([[0.8955433 , 1.46388339, 1.03603342, ..., 2.22212013, 0.29157343,\n",
       "        0.5632099 ],\n",
       "       [0.12914255, 0.09012148, 0.47183429, ..., 0.03542999, 0.29157343,\n",
       "        0.5632099 ],\n",
       "       [1.05883861, 0.09012148, 0.60621773, ..., 0.03542999, 0.29157343,\n",
       "        0.5632099 ],\n",
       "       ...,\n",
       "       [1.31182594, 0.09012148, 0.08363419, ..., 0.03542999, 0.29157343,\n",
       "        0.5632099 ],\n",
       "       [1.37948811, 0.09012148, 0.36418346, ..., 1.65520046, 0.29157343,\n",
       "        0.5632099 ],\n",
       "       [1.00543724, 0.77700244, 0.93014422, ..., 0.03542999, 0.29157343,\n",
       "        1.77553698]])"
      ]
     },
     "execution_count": 33,
     "metadata": {},
     "output_type": "execute_result"
    }
   ],
   "source": [
    "#Identifying outliers and removing them \n",
    "from scipy.stats import zscore\n",
    "z=np.abs(zscore(df))\n",
    "z"
   ]
  },
  {
   "cell_type": "code",
   "execution_count": 34,
   "metadata": {},
   "outputs": [
    {
     "name": "stdout",
     "output_type": "stream",
     "text": [
      "(array([    3,     7,     8, ..., 32550, 32552, 32559], dtype=int64), array([13, 10, 10, ...,  8,  8, 10], dtype=int64))\n"
     ]
    }
   ],
   "source": [
    "threshold=3\n",
    "print(np.where(z>3))"
   ]
  },
  {
   "cell_type": "code",
   "execution_count": 35,
   "metadata": {},
   "outputs": [],
   "source": [
    "df=df[(z<3).all(axis=1)]"
   ]
  },
  {
   "cell_type": "code",
   "execution_count": 36,
   "metadata": {},
   "outputs": [
    {
     "data": {
      "text/html": [
       "<div>\n",
       "<style scoped>\n",
       "    .dataframe tbody tr th:only-of-type {\n",
       "        vertical-align: middle;\n",
       "    }\n",
       "\n",
       "    .dataframe tbody tr th {\n",
       "        vertical-align: top;\n",
       "    }\n",
       "\n",
       "    .dataframe thead th {\n",
       "        text-align: right;\n",
       "    }\n",
       "</style>\n",
       "<table border=\"1\" class=\"dataframe\">\n",
       "  <thead>\n",
       "    <tr style=\"text-align: right;\">\n",
       "      <th></th>\n",
       "      <th>Age</th>\n",
       "      <th>Workclass</th>\n",
       "      <th>Fnlwgt</th>\n",
       "      <th>Education</th>\n",
       "      <th>Education_num</th>\n",
       "      <th>Marital_status</th>\n",
       "      <th>Occupation</th>\n",
       "      <th>Relationship</th>\n",
       "      <th>Race</th>\n",
       "      <th>Sex</th>\n",
       "      <th>Capital_gain</th>\n",
       "      <th>Capital_loss</th>\n",
       "      <th>Hours_per_week</th>\n",
       "      <th>Native_country</th>\n",
       "      <th>Income</th>\n",
       "    </tr>\n",
       "  </thead>\n",
       "  <tbody>\n",
       "    <tr>\n",
       "      <th>0</th>\n",
       "      <td>3.931826</td>\n",
       "      <td>6</td>\n",
       "      <td>11.330348</td>\n",
       "      <td>9</td>\n",
       "      <td>13</td>\n",
       "      <td>2</td>\n",
       "      <td>4</td>\n",
       "      <td>0</td>\n",
       "      <td>4</td>\n",
       "      <td>1</td>\n",
       "      <td>0.0</td>\n",
       "      <td>0.0</td>\n",
       "      <td>13</td>\n",
       "      <td>39</td>\n",
       "      <td>0</td>\n",
       "    </tr>\n",
       "    <tr>\n",
       "      <th>1</th>\n",
       "      <td>3.663562</td>\n",
       "      <td>4</td>\n",
       "      <td>12.281398</td>\n",
       "      <td>11</td>\n",
       "      <td>9</td>\n",
       "      <td>0</td>\n",
       "      <td>6</td>\n",
       "      <td>1</td>\n",
       "      <td>4</td>\n",
       "      <td>1</td>\n",
       "      <td>0.0</td>\n",
       "      <td>0.0</td>\n",
       "      <td>40</td>\n",
       "      <td>39</td>\n",
       "      <td>0</td>\n",
       "    </tr>\n",
       "    <tr>\n",
       "      <th>2</th>\n",
       "      <td>3.988984</td>\n",
       "      <td>4</td>\n",
       "      <td>12.366157</td>\n",
       "      <td>1</td>\n",
       "      <td>7</td>\n",
       "      <td>2</td>\n",
       "      <td>6</td>\n",
       "      <td>0</td>\n",
       "      <td>2</td>\n",
       "      <td>1</td>\n",
       "      <td>0.0</td>\n",
       "      <td>0.0</td>\n",
       "      <td>40</td>\n",
       "      <td>39</td>\n",
       "      <td>0</td>\n",
       "    </tr>\n",
       "    <tr>\n",
       "      <th>4</th>\n",
       "      <td>3.637586</td>\n",
       "      <td>4</td>\n",
       "      <td>12.558780</td>\n",
       "      <td>12</td>\n",
       "      <td>14</td>\n",
       "      <td>2</td>\n",
       "      <td>4</td>\n",
       "      <td>5</td>\n",
       "      <td>4</td>\n",
       "      <td>0</td>\n",
       "      <td>0.0</td>\n",
       "      <td>0.0</td>\n",
       "      <td>40</td>\n",
       "      <td>39</td>\n",
       "      <td>0</td>\n",
       "    </tr>\n",
       "    <tr>\n",
       "      <th>5</th>\n",
       "      <td>3.912023</td>\n",
       "      <td>4</td>\n",
       "      <td>11.984103</td>\n",
       "      <td>6</td>\n",
       "      <td>5</td>\n",
       "      <td>3</td>\n",
       "      <td>8</td>\n",
       "      <td>1</td>\n",
       "      <td>2</td>\n",
       "      <td>0</td>\n",
       "      <td>0.0</td>\n",
       "      <td>0.0</td>\n",
       "      <td>16</td>\n",
       "      <td>23</td>\n",
       "      <td>0</td>\n",
       "    </tr>\n",
       "    <tr>\n",
       "      <th>...</th>\n",
       "      <td>...</td>\n",
       "      <td>...</td>\n",
       "      <td>...</td>\n",
       "      <td>...</td>\n",
       "      <td>...</td>\n",
       "      <td>...</td>\n",
       "      <td>...</td>\n",
       "      <td>...</td>\n",
       "      <td>...</td>\n",
       "      <td>...</td>\n",
       "      <td>...</td>\n",
       "      <td>...</td>\n",
       "      <td>...</td>\n",
       "      <td>...</td>\n",
       "      <td>...</td>\n",
       "    </tr>\n",
       "    <tr>\n",
       "      <th>32554</th>\n",
       "      <td>3.135494</td>\n",
       "      <td>4</td>\n",
       "      <td>12.644821</td>\n",
       "      <td>15</td>\n",
       "      <td>10</td>\n",
       "      <td>4</td>\n",
       "      <td>11</td>\n",
       "      <td>1</td>\n",
       "      <td>4</td>\n",
       "      <td>1</td>\n",
       "      <td>0.0</td>\n",
       "      <td>0.0</td>\n",
       "      <td>40</td>\n",
       "      <td>39</td>\n",
       "      <td>0</td>\n",
       "    </tr>\n",
       "    <tr>\n",
       "      <th>32555</th>\n",
       "      <td>3.332205</td>\n",
       "      <td>4</td>\n",
       "      <td>12.458010</td>\n",
       "      <td>7</td>\n",
       "      <td>12</td>\n",
       "      <td>2</td>\n",
       "      <td>13</td>\n",
       "      <td>5</td>\n",
       "      <td>4</td>\n",
       "      <td>0</td>\n",
       "      <td>0.0</td>\n",
       "      <td>0.0</td>\n",
       "      <td>38</td>\n",
       "      <td>39</td>\n",
       "      <td>0</td>\n",
       "    </tr>\n",
       "    <tr>\n",
       "      <th>32556</th>\n",
       "      <td>3.713572</td>\n",
       "      <td>4</td>\n",
       "      <td>11.947140</td>\n",
       "      <td>11</td>\n",
       "      <td>9</td>\n",
       "      <td>2</td>\n",
       "      <td>7</td>\n",
       "      <td>0</td>\n",
       "      <td>4</td>\n",
       "      <td>1</td>\n",
       "      <td>0.0</td>\n",
       "      <td>0.0</td>\n",
       "      <td>40</td>\n",
       "      <td>39</td>\n",
       "      <td>1</td>\n",
       "    </tr>\n",
       "    <tr>\n",
       "      <th>32557</th>\n",
       "      <td>4.077537</td>\n",
       "      <td>4</td>\n",
       "      <td>11.931050</td>\n",
       "      <td>11</td>\n",
       "      <td>9</td>\n",
       "      <td>6</td>\n",
       "      <td>1</td>\n",
       "      <td>4</td>\n",
       "      <td>4</td>\n",
       "      <td>0</td>\n",
       "      <td>0.0</td>\n",
       "      <td>0.0</td>\n",
       "      <td>40</td>\n",
       "      <td>39</td>\n",
       "      <td>0</td>\n",
       "    </tr>\n",
       "    <tr>\n",
       "      <th>32558</th>\n",
       "      <td>3.135494</td>\n",
       "      <td>4</td>\n",
       "      <td>12.213500</td>\n",
       "      <td>11</td>\n",
       "      <td>9</td>\n",
       "      <td>4</td>\n",
       "      <td>1</td>\n",
       "      <td>3</td>\n",
       "      <td>4</td>\n",
       "      <td>1</td>\n",
       "      <td>0.0</td>\n",
       "      <td>0.0</td>\n",
       "      <td>20</td>\n",
       "      <td>39</td>\n",
       "      <td>0</td>\n",
       "    </tr>\n",
       "  </tbody>\n",
       "</table>\n",
       "<p>25940 rows × 15 columns</p>\n",
       "</div>"
      ],
      "text/plain": [
       "            Age  Workclass     Fnlwgt  Education  Education_num  \\\n",
       "0      3.931826          6  11.330348          9             13   \n",
       "1      3.663562          4  12.281398         11              9   \n",
       "2      3.988984          4  12.366157          1              7   \n",
       "4      3.637586          4  12.558780         12             14   \n",
       "5      3.912023          4  11.984103          6              5   \n",
       "...         ...        ...        ...        ...            ...   \n",
       "32554  3.135494          4  12.644821         15             10   \n",
       "32555  3.332205          4  12.458010          7             12   \n",
       "32556  3.713572          4  11.947140         11              9   \n",
       "32557  4.077537          4  11.931050         11              9   \n",
       "32558  3.135494          4  12.213500         11              9   \n",
       "\n",
       "       Marital_status  Occupation  Relationship  Race  Sex  Capital_gain  \\\n",
       "0                   2           4             0     4    1           0.0   \n",
       "1                   0           6             1     4    1           0.0   \n",
       "2                   2           6             0     2    1           0.0   \n",
       "4                   2           4             5     4    0           0.0   \n",
       "5                   3           8             1     2    0           0.0   \n",
       "...               ...         ...           ...   ...  ...           ...   \n",
       "32554               4          11             1     4    1           0.0   \n",
       "32555               2          13             5     4    0           0.0   \n",
       "32556               2           7             0     4    1           0.0   \n",
       "32557               6           1             4     4    0           0.0   \n",
       "32558               4           1             3     4    1           0.0   \n",
       "\n",
       "       Capital_loss  Hours_per_week  Native_country  Income  \n",
       "0               0.0              13              39       0  \n",
       "1               0.0              40              39       0  \n",
       "2               0.0              40              39       0  \n",
       "4               0.0              40              39       0  \n",
       "5               0.0              16              23       0  \n",
       "...             ...             ...             ...     ...  \n",
       "32554           0.0              40              39       0  \n",
       "32555           0.0              38              39       0  \n",
       "32556           0.0              40              39       1  \n",
       "32557           0.0              40              39       0  \n",
       "32558           0.0              20              39       0  \n",
       "\n",
       "[25940 rows x 15 columns]"
      ]
     },
     "execution_count": 36,
     "metadata": {},
     "output_type": "execute_result"
    }
   ],
   "source": [
    "df"
   ]
  },
  {
   "cell_type": "code",
   "execution_count": 37,
   "metadata": {},
   "outputs": [
    {
     "data": {
      "text/html": [
       "<div>\n",
       "<style scoped>\n",
       "    .dataframe tbody tr th:only-of-type {\n",
       "        vertical-align: middle;\n",
       "    }\n",
       "\n",
       "    .dataframe tbody tr th {\n",
       "        vertical-align: top;\n",
       "    }\n",
       "\n",
       "    .dataframe thead th {\n",
       "        text-align: right;\n",
       "    }\n",
       "</style>\n",
       "<table border=\"1\" class=\"dataframe\">\n",
       "  <thead>\n",
       "    <tr style=\"text-align: right;\">\n",
       "      <th></th>\n",
       "      <th>Age</th>\n",
       "      <th>Workclass</th>\n",
       "      <th>Fnlwgt</th>\n",
       "      <th>Education</th>\n",
       "      <th>Education_num</th>\n",
       "      <th>Marital_status</th>\n",
       "      <th>Occupation</th>\n",
       "      <th>Relationship</th>\n",
       "      <th>Race</th>\n",
       "      <th>Sex</th>\n",
       "      <th>Capital_gain</th>\n",
       "      <th>Capital_loss</th>\n",
       "      <th>Hours_per_week</th>\n",
       "      <th>Native_country</th>\n",
       "      <th>Income</th>\n",
       "    </tr>\n",
       "  </thead>\n",
       "  <tbody>\n",
       "    <tr>\n",
       "      <th>count</th>\n",
       "      <td>25940.000000</td>\n",
       "      <td>25940.000000</td>\n",
       "      <td>25940.000000</td>\n",
       "      <td>25940.000000</td>\n",
       "      <td>25940.000000</td>\n",
       "      <td>25940.000000</td>\n",
       "      <td>25940.000000</td>\n",
       "      <td>25940.000000</td>\n",
       "      <td>25940.000000</td>\n",
       "      <td>25940.000000</td>\n",
       "      <td>25940.000000</td>\n",
       "      <td>25940.000000</td>\n",
       "      <td>25940.000000</td>\n",
       "      <td>25940.000000</td>\n",
       "      <td>25940.000000</td>\n",
       "    </tr>\n",
       "    <tr>\n",
       "      <th>mean</th>\n",
       "      <td>3.598014</td>\n",
       "      <td>3.858134</td>\n",
       "      <td>11.998159</td>\n",
       "      <td>10.303701</td>\n",
       "      <td>9.962953</td>\n",
       "      <td>2.647340</td>\n",
       "      <td>6.511103</td>\n",
       "      <td>1.505590</td>\n",
       "      <td>3.782382</td>\n",
       "      <td>0.653971</td>\n",
       "      <td>0.159853</td>\n",
       "      <td>0.000195</td>\n",
       "      <td>39.596222</td>\n",
       "      <td>38.443061</td>\n",
       "      <td>0.190324</td>\n",
       "    </tr>\n",
       "    <tr>\n",
       "      <th>std</th>\n",
       "      <td>0.354872</td>\n",
       "      <td>1.450361</td>\n",
       "      <td>0.617230</td>\n",
       "      <td>3.934325</td>\n",
       "      <td>2.392299</td>\n",
       "      <td>1.538258</td>\n",
       "      <td>4.250220</td>\n",
       "      <td>1.599185</td>\n",
       "      <td>0.617120</td>\n",
       "      <td>0.475712</td>\n",
       "      <td>1.095148</td>\n",
       "      <td>0.031354</td>\n",
       "      <td>11.217900</td>\n",
       "      <td>2.795171</td>\n",
       "      <td>0.392564</td>\n",
       "    </tr>\n",
       "    <tr>\n",
       "      <th>min</th>\n",
       "      <td>2.890372</td>\n",
       "      <td>0.000000</td>\n",
       "      <td>10.091625</td>\n",
       "      <td>0.000000</td>\n",
       "      <td>3.000000</td>\n",
       "      <td>0.000000</td>\n",
       "      <td>0.000000</td>\n",
       "      <td>0.000000</td>\n",
       "      <td>2.000000</td>\n",
       "      <td>0.000000</td>\n",
       "      <td>0.000000</td>\n",
       "      <td>0.000000</td>\n",
       "      <td>4.000000</td>\n",
       "      <td>14.000000</td>\n",
       "      <td>0.000000</td>\n",
       "    </tr>\n",
       "    <tr>\n",
       "      <th>25%</th>\n",
       "      <td>3.332205</td>\n",
       "      <td>4.000000</td>\n",
       "      <td>11.688755</td>\n",
       "      <td>9.000000</td>\n",
       "      <td>9.000000</td>\n",
       "      <td>2.000000</td>\n",
       "      <td>3.000000</td>\n",
       "      <td>0.000000</td>\n",
       "      <td>4.000000</td>\n",
       "      <td>0.000000</td>\n",
       "      <td>0.000000</td>\n",
       "      <td>0.000000</td>\n",
       "      <td>38.000000</td>\n",
       "      <td>39.000000</td>\n",
       "      <td>0.000000</td>\n",
       "    </tr>\n",
       "    <tr>\n",
       "      <th>50%</th>\n",
       "      <td>3.610918</td>\n",
       "      <td>4.000000</td>\n",
       "      <td>12.102608</td>\n",
       "      <td>11.000000</td>\n",
       "      <td>10.000000</td>\n",
       "      <td>2.000000</td>\n",
       "      <td>6.000000</td>\n",
       "      <td>1.000000</td>\n",
       "      <td>4.000000</td>\n",
       "      <td>1.000000</td>\n",
       "      <td>0.000000</td>\n",
       "      <td>0.000000</td>\n",
       "      <td>40.000000</td>\n",
       "      <td>39.000000</td>\n",
       "      <td>0.000000</td>\n",
       "    </tr>\n",
       "    <tr>\n",
       "      <th>75%</th>\n",
       "      <td>3.871201</td>\n",
       "      <td>4.000000</td>\n",
       "      <td>12.381571</td>\n",
       "      <td>12.000000</td>\n",
       "      <td>11.000000</td>\n",
       "      <td>4.000000</td>\n",
       "      <td>10.000000</td>\n",
       "      <td>3.000000</td>\n",
       "      <td>4.000000</td>\n",
       "      <td>1.000000</td>\n",
       "      <td>0.000000</td>\n",
       "      <td>0.000000</td>\n",
       "      <td>45.000000</td>\n",
       "      <td>39.000000</td>\n",
       "      <td>0.000000</td>\n",
       "    </tr>\n",
       "    <tr>\n",
       "      <th>max</th>\n",
       "      <td>4.510860</td>\n",
       "      <td>8.000000</td>\n",
       "      <td>13.853340</td>\n",
       "      <td>15.000000</td>\n",
       "      <td>16.000000</td>\n",
       "      <td>6.000000</td>\n",
       "      <td>14.000000</td>\n",
       "      <td>5.000000</td>\n",
       "      <td>4.000000</td>\n",
       "      <td>1.000000</td>\n",
       "      <td>8.093768</td>\n",
       "      <td>5.049856</td>\n",
       "      <td>77.000000</td>\n",
       "      <td>41.000000</td>\n",
       "      <td>1.000000</td>\n",
       "    </tr>\n",
       "  </tbody>\n",
       "</table>\n",
       "</div>"
      ],
      "text/plain": [
       "                Age     Workclass        Fnlwgt     Education  Education_num  \\\n",
       "count  25940.000000  25940.000000  25940.000000  25940.000000   25940.000000   \n",
       "mean       3.598014      3.858134     11.998159     10.303701       9.962953   \n",
       "std        0.354872      1.450361      0.617230      3.934325       2.392299   \n",
       "min        2.890372      0.000000     10.091625      0.000000       3.000000   \n",
       "25%        3.332205      4.000000     11.688755      9.000000       9.000000   \n",
       "50%        3.610918      4.000000     12.102608     11.000000      10.000000   \n",
       "75%        3.871201      4.000000     12.381571     12.000000      11.000000   \n",
       "max        4.510860      8.000000     13.853340     15.000000      16.000000   \n",
       "\n",
       "       Marital_status    Occupation  Relationship          Race           Sex  \\\n",
       "count    25940.000000  25940.000000  25940.000000  25940.000000  25940.000000   \n",
       "mean         2.647340      6.511103      1.505590      3.782382      0.653971   \n",
       "std          1.538258      4.250220      1.599185      0.617120      0.475712   \n",
       "min          0.000000      0.000000      0.000000      2.000000      0.000000   \n",
       "25%          2.000000      3.000000      0.000000      4.000000      0.000000   \n",
       "50%          2.000000      6.000000      1.000000      4.000000      1.000000   \n",
       "75%          4.000000     10.000000      3.000000      4.000000      1.000000   \n",
       "max          6.000000     14.000000      5.000000      4.000000      1.000000   \n",
       "\n",
       "       Capital_gain  Capital_loss  Hours_per_week  Native_country  \\\n",
       "count  25940.000000  25940.000000    25940.000000    25940.000000   \n",
       "mean       0.159853      0.000195       39.596222       38.443061   \n",
       "std        1.095148      0.031354       11.217900        2.795171   \n",
       "min        0.000000      0.000000        4.000000       14.000000   \n",
       "25%        0.000000      0.000000       38.000000       39.000000   \n",
       "50%        0.000000      0.000000       40.000000       39.000000   \n",
       "75%        0.000000      0.000000       45.000000       39.000000   \n",
       "max        8.093768      5.049856       77.000000       41.000000   \n",
       "\n",
       "             Income  \n",
       "count  25940.000000  \n",
       "mean       0.190324  \n",
       "std        0.392564  \n",
       "min        0.000000  \n",
       "25%        0.000000  \n",
       "50%        0.000000  \n",
       "75%        0.000000  \n",
       "max        1.000000  "
      ]
     },
     "execution_count": 37,
     "metadata": {},
     "output_type": "execute_result"
    }
   ],
   "source": [
    "df.describe()"
   ]
  },
  {
   "cell_type": "code",
   "execution_count": 38,
   "metadata": {},
   "outputs": [
    {
     "data": {
      "text/html": [
       "<div>\n",
       "<style scoped>\n",
       "    .dataframe tbody tr th:only-of-type {\n",
       "        vertical-align: middle;\n",
       "    }\n",
       "\n",
       "    .dataframe tbody tr th {\n",
       "        vertical-align: top;\n",
       "    }\n",
       "\n",
       "    .dataframe thead th {\n",
       "        text-align: right;\n",
       "    }\n",
       "</style>\n",
       "<table border=\"1\" class=\"dataframe\">\n",
       "  <thead>\n",
       "    <tr style=\"text-align: right;\">\n",
       "      <th></th>\n",
       "      <th>Age</th>\n",
       "      <th>Workclass</th>\n",
       "      <th>Fnlwgt</th>\n",
       "      <th>Education</th>\n",
       "      <th>Education_num</th>\n",
       "      <th>Marital_status</th>\n",
       "      <th>Occupation</th>\n",
       "      <th>Relationship</th>\n",
       "      <th>Race</th>\n",
       "      <th>Sex</th>\n",
       "      <th>Capital_gain</th>\n",
       "      <th>Capital_loss</th>\n",
       "      <th>Hours_per_week</th>\n",
       "      <th>Native_country</th>\n",
       "      <th>Income</th>\n",
       "    </tr>\n",
       "  </thead>\n",
       "  <tbody>\n",
       "    <tr>\n",
       "      <th>Age</th>\n",
       "      <td>1.000000</td>\n",
       "      <td>0.030299</td>\n",
       "      <td>-0.061165</td>\n",
       "      <td>0.013731</td>\n",
       "      <td>0.064016</td>\n",
       "      <td>-0.331563</td>\n",
       "      <td>-0.007714</td>\n",
       "      <td>-0.289734</td>\n",
       "      <td>0.010319</td>\n",
       "      <td>0.092915</td>\n",
       "      <td>0.043262</td>\n",
       "      <td>-0.004037</td>\n",
       "      <td>0.152900</td>\n",
       "      <td>0.029244</td>\n",
       "      <td>0.246404</td>\n",
       "    </tr>\n",
       "    <tr>\n",
       "      <th>Workclass</th>\n",
       "      <td>0.030299</td>\n",
       "      <td>1.000000</td>\n",
       "      <td>-0.020147</td>\n",
       "      <td>0.020887</td>\n",
       "      <td>0.049652</td>\n",
       "      <td>-0.066247</td>\n",
       "      <td>0.257258</td>\n",
       "      <td>-0.090030</td>\n",
       "      <td>0.063539</td>\n",
       "      <td>0.092342</td>\n",
       "      <td>-0.004866</td>\n",
       "      <td>0.000607</td>\n",
       "      <td>0.127281</td>\n",
       "      <td>-0.003600</td>\n",
       "      <td>0.038080</td>\n",
       "    </tr>\n",
       "    <tr>\n",
       "      <th>Fnlwgt</th>\n",
       "      <td>-0.061165</td>\n",
       "      <td>-0.020147</td>\n",
       "      <td>1.000000</td>\n",
       "      <td>-0.019231</td>\n",
       "      <td>-0.037956</td>\n",
       "      <td>0.025053</td>\n",
       "      <td>-0.003933</td>\n",
       "      <td>0.022889</td>\n",
       "      <td>-0.112396</td>\n",
       "      <td>0.010956</td>\n",
       "      <td>-0.009651</td>\n",
       "      <td>-0.001436</td>\n",
       "      <td>-0.022626</td>\n",
       "      <td>-0.097270</td>\n",
       "      <td>-0.004208</td>\n",
       "    </tr>\n",
       "    <tr>\n",
       "      <th>Education</th>\n",
       "      <td>0.013731</td>\n",
       "      <td>0.020887</td>\n",
       "      <td>-0.019231</td>\n",
       "      <td>1.000000</td>\n",
       "      <td>0.363549</td>\n",
       "      <td>-0.036480</td>\n",
       "      <td>-0.024960</td>\n",
       "      <td>-0.009008</td>\n",
       "      <td>0.024316</td>\n",
       "      <td>-0.034873</td>\n",
       "      <td>-0.008077</td>\n",
       "      <td>-0.016261</td>\n",
       "      <td>0.062124</td>\n",
       "      <td>0.085498</td>\n",
       "      <td>0.069433</td>\n",
       "    </tr>\n",
       "    <tr>\n",
       "      <th>Education_num</th>\n",
       "      <td>0.064016</td>\n",
       "      <td>0.049652</td>\n",
       "      <td>-0.037956</td>\n",
       "      <td>0.363549</td>\n",
       "      <td>1.000000</td>\n",
       "      <td>-0.051804</td>\n",
       "      <td>0.107916</td>\n",
       "      <td>-0.085112</td>\n",
       "      <td>0.078911</td>\n",
       "      <td>-0.005303</td>\n",
       "      <td>-0.026779</td>\n",
       "      <td>-0.010286</td>\n",
       "      <td>0.149040</td>\n",
       "      <td>0.143128</td>\n",
       "      <td>0.296505</td>\n",
       "    </tr>\n",
       "    <tr>\n",
       "      <th>Marital_status</th>\n",
       "      <td>-0.331563</td>\n",
       "      <td>-0.066247</td>\n",
       "      <td>0.025053</td>\n",
       "      <td>-0.036480</td>\n",
       "      <td>-0.051804</td>\n",
       "      <td>1.000000</td>\n",
       "      <td>-0.006300</td>\n",
       "      <td>0.186120</td>\n",
       "      <td>-0.084137</td>\n",
       "      <td>-0.122935</td>\n",
       "      <td>-0.001129</td>\n",
       "      <td>0.005460</td>\n",
       "      <td>-0.202806</td>\n",
       "      <td>-0.032708</td>\n",
       "      <td>-0.186286</td>\n",
       "    </tr>\n",
       "    <tr>\n",
       "      <th>Occupation</th>\n",
       "      <td>-0.007714</td>\n",
       "      <td>0.257258</td>\n",
       "      <td>-0.003933</td>\n",
       "      <td>-0.024960</td>\n",
       "      <td>0.107916</td>\n",
       "      <td>-0.006300</td>\n",
       "      <td>1.000000</td>\n",
       "      <td>-0.079862</td>\n",
       "      <td>0.012584</td>\n",
       "      <td>0.084252</td>\n",
       "      <td>-0.011219</td>\n",
       "      <td>0.000714</td>\n",
       "      <td>0.069353</td>\n",
       "      <td>0.010131</td>\n",
       "      <td>0.069403</td>\n",
       "    </tr>\n",
       "    <tr>\n",
       "      <th>Relationship</th>\n",
       "      <td>-0.289734</td>\n",
       "      <td>-0.090030</td>\n",
       "      <td>0.022889</td>\n",
       "      <td>-0.009008</td>\n",
       "      <td>-0.085112</td>\n",
       "      <td>0.186120</td>\n",
       "      <td>-0.079862</td>\n",
       "      <td>1.000000</td>\n",
       "      <td>-0.149106</td>\n",
       "      <td>-0.564423</td>\n",
       "      <td>-0.006624</td>\n",
       "      <td>-0.001963</td>\n",
       "      <td>-0.257352</td>\n",
       "      <td>-0.019179</td>\n",
       "      <td>-0.238890</td>\n",
       "    </tr>\n",
       "    <tr>\n",
       "      <th>Race</th>\n",
       "      <td>0.010319</td>\n",
       "      <td>0.063539</td>\n",
       "      <td>-0.112396</td>\n",
       "      <td>0.024316</td>\n",
       "      <td>0.078911</td>\n",
       "      <td>-0.084137</td>\n",
       "      <td>0.012584</td>\n",
       "      <td>-0.149106</td>\n",
       "      <td>1.000000</td>\n",
       "      <td>0.123923</td>\n",
       "      <td>0.007449</td>\n",
       "      <td>0.002190</td>\n",
       "      <td>0.054484</td>\n",
       "      <td>0.054959</td>\n",
       "      <td>0.091085</td>\n",
       "    </tr>\n",
       "    <tr>\n",
       "      <th>Sex</th>\n",
       "      <td>0.092915</td>\n",
       "      <td>0.092342</td>\n",
       "      <td>0.010956</td>\n",
       "      <td>-0.034873</td>\n",
       "      <td>-0.005303</td>\n",
       "      <td>-0.122935</td>\n",
       "      <td>0.084252</td>\n",
       "      <td>-0.564423</td>\n",
       "      <td>0.123923</td>\n",
       "      <td>1.000000</td>\n",
       "      <td>0.003600</td>\n",
       "      <td>-0.008536</td>\n",
       "      <td>0.231700</td>\n",
       "      <td>-0.006439</td>\n",
       "      <td>0.203414</td>\n",
       "    </tr>\n",
       "    <tr>\n",
       "      <th>Capital_gain</th>\n",
       "      <td>0.043262</td>\n",
       "      <td>-0.004866</td>\n",
       "      <td>-0.009651</td>\n",
       "      <td>-0.008077</td>\n",
       "      <td>-0.026779</td>\n",
       "      <td>-0.001129</td>\n",
       "      <td>-0.011219</td>\n",
       "      <td>-0.006624</td>\n",
       "      <td>0.007449</td>\n",
       "      <td>0.003600</td>\n",
       "      <td>1.000000</td>\n",
       "      <td>-0.000906</td>\n",
       "      <td>-0.015027</td>\n",
       "      <td>0.000824</td>\n",
       "      <td>-0.010925</td>\n",
       "    </tr>\n",
       "    <tr>\n",
       "      <th>Capital_loss</th>\n",
       "      <td>-0.004037</td>\n",
       "      <td>0.000607</td>\n",
       "      <td>-0.001436</td>\n",
       "      <td>-0.016261</td>\n",
       "      <td>-0.010286</td>\n",
       "      <td>0.005460</td>\n",
       "      <td>0.000714</td>\n",
       "      <td>-0.001963</td>\n",
       "      <td>0.002190</td>\n",
       "      <td>-0.008536</td>\n",
       "      <td>-0.000906</td>\n",
       "      <td>1.000000</td>\n",
       "      <td>0.000223</td>\n",
       "      <td>0.001237</td>\n",
       "      <td>-0.003010</td>\n",
       "    </tr>\n",
       "    <tr>\n",
       "      <th>Hours_per_week</th>\n",
       "      <td>0.152900</td>\n",
       "      <td>0.127281</td>\n",
       "      <td>-0.022626</td>\n",
       "      <td>0.062124</td>\n",
       "      <td>0.149040</td>\n",
       "      <td>-0.202806</td>\n",
       "      <td>0.069353</td>\n",
       "      <td>-0.257352</td>\n",
       "      <td>0.054484</td>\n",
       "      <td>0.231700</td>\n",
       "      <td>-0.015027</td>\n",
       "      <td>0.000223</td>\n",
       "      <td>1.000000</td>\n",
       "      <td>0.006954</td>\n",
       "      <td>0.221568</td>\n",
       "    </tr>\n",
       "    <tr>\n",
       "      <th>Native_country</th>\n",
       "      <td>0.029244</td>\n",
       "      <td>-0.003600</td>\n",
       "      <td>-0.097270</td>\n",
       "      <td>0.085498</td>\n",
       "      <td>0.143128</td>\n",
       "      <td>-0.032708</td>\n",
       "      <td>0.010131</td>\n",
       "      <td>-0.019179</td>\n",
       "      <td>0.054959</td>\n",
       "      <td>-0.006439</td>\n",
       "      <td>0.000824</td>\n",
       "      <td>0.001237</td>\n",
       "      <td>0.006954</td>\n",
       "      <td>1.000000</td>\n",
       "      <td>0.044466</td>\n",
       "    </tr>\n",
       "    <tr>\n",
       "      <th>Income</th>\n",
       "      <td>0.246404</td>\n",
       "      <td>0.038080</td>\n",
       "      <td>-0.004208</td>\n",
       "      <td>0.069433</td>\n",
       "      <td>0.296505</td>\n",
       "      <td>-0.186286</td>\n",
       "      <td>0.069403</td>\n",
       "      <td>-0.238890</td>\n",
       "      <td>0.091085</td>\n",
       "      <td>0.203414</td>\n",
       "      <td>-0.010925</td>\n",
       "      <td>-0.003010</td>\n",
       "      <td>0.221568</td>\n",
       "      <td>0.044466</td>\n",
       "      <td>1.000000</td>\n",
       "    </tr>\n",
       "  </tbody>\n",
       "</table>\n",
       "</div>"
      ],
      "text/plain": [
       "                     Age  Workclass    Fnlwgt  Education  Education_num  \\\n",
       "Age             1.000000   0.030299 -0.061165   0.013731       0.064016   \n",
       "Workclass       0.030299   1.000000 -0.020147   0.020887       0.049652   \n",
       "Fnlwgt         -0.061165  -0.020147  1.000000  -0.019231      -0.037956   \n",
       "Education       0.013731   0.020887 -0.019231   1.000000       0.363549   \n",
       "Education_num   0.064016   0.049652 -0.037956   0.363549       1.000000   \n",
       "Marital_status -0.331563  -0.066247  0.025053  -0.036480      -0.051804   \n",
       "Occupation     -0.007714   0.257258 -0.003933  -0.024960       0.107916   \n",
       "Relationship   -0.289734  -0.090030  0.022889  -0.009008      -0.085112   \n",
       "Race            0.010319   0.063539 -0.112396   0.024316       0.078911   \n",
       "Sex             0.092915   0.092342  0.010956  -0.034873      -0.005303   \n",
       "Capital_gain    0.043262  -0.004866 -0.009651  -0.008077      -0.026779   \n",
       "Capital_loss   -0.004037   0.000607 -0.001436  -0.016261      -0.010286   \n",
       "Hours_per_week  0.152900   0.127281 -0.022626   0.062124       0.149040   \n",
       "Native_country  0.029244  -0.003600 -0.097270   0.085498       0.143128   \n",
       "Income          0.246404   0.038080 -0.004208   0.069433       0.296505   \n",
       "\n",
       "                Marital_status  Occupation  Relationship      Race       Sex  \\\n",
       "Age                  -0.331563   -0.007714     -0.289734  0.010319  0.092915   \n",
       "Workclass            -0.066247    0.257258     -0.090030  0.063539  0.092342   \n",
       "Fnlwgt                0.025053   -0.003933      0.022889 -0.112396  0.010956   \n",
       "Education            -0.036480   -0.024960     -0.009008  0.024316 -0.034873   \n",
       "Education_num        -0.051804    0.107916     -0.085112  0.078911 -0.005303   \n",
       "Marital_status        1.000000   -0.006300      0.186120 -0.084137 -0.122935   \n",
       "Occupation           -0.006300    1.000000     -0.079862  0.012584  0.084252   \n",
       "Relationship          0.186120   -0.079862      1.000000 -0.149106 -0.564423   \n",
       "Race                 -0.084137    0.012584     -0.149106  1.000000  0.123923   \n",
       "Sex                  -0.122935    0.084252     -0.564423  0.123923  1.000000   \n",
       "Capital_gain         -0.001129   -0.011219     -0.006624  0.007449  0.003600   \n",
       "Capital_loss          0.005460    0.000714     -0.001963  0.002190 -0.008536   \n",
       "Hours_per_week       -0.202806    0.069353     -0.257352  0.054484  0.231700   \n",
       "Native_country       -0.032708    0.010131     -0.019179  0.054959 -0.006439   \n",
       "Income               -0.186286    0.069403     -0.238890  0.091085  0.203414   \n",
       "\n",
       "                Capital_gain  Capital_loss  Hours_per_week  Native_country  \\\n",
       "Age                 0.043262     -0.004037        0.152900        0.029244   \n",
       "Workclass          -0.004866      0.000607        0.127281       -0.003600   \n",
       "Fnlwgt             -0.009651     -0.001436       -0.022626       -0.097270   \n",
       "Education          -0.008077     -0.016261        0.062124        0.085498   \n",
       "Education_num      -0.026779     -0.010286        0.149040        0.143128   \n",
       "Marital_status     -0.001129      0.005460       -0.202806       -0.032708   \n",
       "Occupation         -0.011219      0.000714        0.069353        0.010131   \n",
       "Relationship       -0.006624     -0.001963       -0.257352       -0.019179   \n",
       "Race                0.007449      0.002190        0.054484        0.054959   \n",
       "Sex                 0.003600     -0.008536        0.231700       -0.006439   \n",
       "Capital_gain        1.000000     -0.000906       -0.015027        0.000824   \n",
       "Capital_loss       -0.000906      1.000000        0.000223        0.001237   \n",
       "Hours_per_week     -0.015027      0.000223        1.000000        0.006954   \n",
       "Native_country      0.000824      0.001237        0.006954        1.000000   \n",
       "Income             -0.010925     -0.003010        0.221568        0.044466   \n",
       "\n",
       "                  Income  \n",
       "Age             0.246404  \n",
       "Workclass       0.038080  \n",
       "Fnlwgt         -0.004208  \n",
       "Education       0.069433  \n",
       "Education_num   0.296505  \n",
       "Marital_status -0.186286  \n",
       "Occupation      0.069403  \n",
       "Relationship   -0.238890  \n",
       "Race            0.091085  \n",
       "Sex             0.203414  \n",
       "Capital_gain   -0.010925  \n",
       "Capital_loss   -0.003010  \n",
       "Hours_per_week  0.221568  \n",
       "Native_country  0.044466  \n",
       "Income          1.000000  "
      ]
     },
     "execution_count": 38,
     "metadata": {},
     "output_type": "execute_result"
    }
   ],
   "source": [
    "df.corr()"
   ]
  },
  {
   "cell_type": "code",
   "execution_count": 39,
   "metadata": {},
   "outputs": [
    {
     "data": {
      "image/png": "[encoded data removed]",
      "text/plain": [
       "<Figure size 2160x1440 with 2 Axes>"
      ]
     },
     "metadata": {
      "needs_background": "light"
     },
     "output_type": "display_data"
    }
   ],
   "source": [
    "plt.figure(figsize=(30,20))\n",
    "sns.heatmap(df.corr(),annot=True)\n",
    "plt.show()"
   ]
  },
  {
   "cell_type": "code",
   "execution_count": 40,
   "metadata": {},
   "outputs": [
    {
     "data": {
      "text/plain": [
       "(25940, 15)"
      ]
     },
     "execution_count": 40,
     "metadata": {},
     "output_type": "execute_result"
    }
   ],
   "source": [
    "df.shape"
   ]
  },
  {
   "cell_type": "markdown",
   "metadata": {},
   "source": [
    "# Lets now find out the prediction of the Income by using different Classification models"
   ]
  },
  {
   "cell_type": "code",
   "execution_count": 41,
   "metadata": {},
   "outputs": [],
   "source": [
    "x=df.iloc[:,0:-1]\n",
    "y=df.iloc[:,-1]"
   ]
  },
  {
   "cell_type": "code",
   "execution_count": 42,
   "metadata": {},
   "outputs": [
    {
     "data": {
      "text/html": [
       "<div>\n",
       "<style scoped>\n",
       "    .dataframe tbody tr th:only-of-type {\n",
       "        vertical-align: middle;\n",
       "    }\n",
       "\n",
       "    .dataframe tbody tr th {\n",
       "        vertical-align: top;\n",
       "    }\n",
       "\n",
       "    .dataframe thead th {\n",
       "        text-align: right;\n",
       "    }\n",
       "</style>\n",
       "<table border=\"1\" class=\"dataframe\">\n",
       "  <thead>\n",
       "    <tr style=\"text-align: right;\">\n",
       "      <th></th>\n",
       "      <th>Age</th>\n",
       "      <th>Workclass</th>\n",
       "      <th>Fnlwgt</th>\n",
       "      <th>Education</th>\n",
       "      <th>Education_num</th>\n",
       "      <th>Marital_status</th>\n",
       "      <th>Occupation</th>\n",
       "      <th>Relationship</th>\n",
       "      <th>Race</th>\n",
       "      <th>Sex</th>\n",
       "      <th>Capital_gain</th>\n",
       "      <th>Capital_loss</th>\n",
       "      <th>Hours_per_week</th>\n",
       "      <th>Native_country</th>\n",
       "    </tr>\n",
       "  </thead>\n",
       "  <tbody>\n",
       "    <tr>\n",
       "      <th>0</th>\n",
       "      <td>3.931826</td>\n",
       "      <td>6</td>\n",
       "      <td>11.330348</td>\n",
       "      <td>9</td>\n",
       "      <td>13</td>\n",
       "      <td>2</td>\n",
       "      <td>4</td>\n",
       "      <td>0</td>\n",
       "      <td>4</td>\n",
       "      <td>1</td>\n",
       "      <td>0.0</td>\n",
       "      <td>0.0</td>\n",
       "      <td>13</td>\n",
       "      <td>39</td>\n",
       "    </tr>\n",
       "    <tr>\n",
       "      <th>1</th>\n",
       "      <td>3.663562</td>\n",
       "      <td>4</td>\n",
       "      <td>12.281398</td>\n",
       "      <td>11</td>\n",
       "      <td>9</td>\n",
       "      <td>0</td>\n",
       "      <td>6</td>\n",
       "      <td>1</td>\n",
       "      <td>4</td>\n",
       "      <td>1</td>\n",
       "      <td>0.0</td>\n",
       "      <td>0.0</td>\n",
       "      <td>40</td>\n",
       "      <td>39</td>\n",
       "    </tr>\n",
       "    <tr>\n",
       "      <th>2</th>\n",
       "      <td>3.988984</td>\n",
       "      <td>4</td>\n",
       "      <td>12.366157</td>\n",
       "      <td>1</td>\n",
       "      <td>7</td>\n",
       "      <td>2</td>\n",
       "      <td>6</td>\n",
       "      <td>0</td>\n",
       "      <td>2</td>\n",
       "      <td>1</td>\n",
       "      <td>0.0</td>\n",
       "      <td>0.0</td>\n",
       "      <td>40</td>\n",
       "      <td>39</td>\n",
       "    </tr>\n",
       "    <tr>\n",
       "      <th>4</th>\n",
       "      <td>3.637586</td>\n",
       "      <td>4</td>\n",
       "      <td>12.558780</td>\n",
       "      <td>12</td>\n",
       "      <td>14</td>\n",
       "      <td>2</td>\n",
       "      <td>4</td>\n",
       "      <td>5</td>\n",
       "      <td>4</td>\n",
       "      <td>0</td>\n",
       "      <td>0.0</td>\n",
       "      <td>0.0</td>\n",
       "      <td>40</td>\n",
       "      <td>39</td>\n",
       "    </tr>\n",
       "    <tr>\n",
       "      <th>5</th>\n",
       "      <td>3.912023</td>\n",
       "      <td>4</td>\n",
       "      <td>11.984103</td>\n",
       "      <td>6</td>\n",
       "      <td>5</td>\n",
       "      <td>3</td>\n",
       "      <td>8</td>\n",
       "      <td>1</td>\n",
       "      <td>2</td>\n",
       "      <td>0</td>\n",
       "      <td>0.0</td>\n",
       "      <td>0.0</td>\n",
       "      <td>16</td>\n",
       "      <td>23</td>\n",
       "    </tr>\n",
       "    <tr>\n",
       "      <th>...</th>\n",
       "      <td>...</td>\n",
       "      <td>...</td>\n",
       "      <td>...</td>\n",
       "      <td>...</td>\n",
       "      <td>...</td>\n",
       "      <td>...</td>\n",
       "      <td>...</td>\n",
       "      <td>...</td>\n",
       "      <td>...</td>\n",
       "      <td>...</td>\n",
       "      <td>...</td>\n",
       "      <td>...</td>\n",
       "      <td>...</td>\n",
       "      <td>...</td>\n",
       "    </tr>\n",
       "    <tr>\n",
       "      <th>32554</th>\n",
       "      <td>3.135494</td>\n",
       "      <td>4</td>\n",
       "      <td>12.644821</td>\n",
       "      <td>15</td>\n",
       "      <td>10</td>\n",
       "      <td>4</td>\n",
       "      <td>11</td>\n",
       "      <td>1</td>\n",
       "      <td>4</td>\n",
       "      <td>1</td>\n",
       "      <td>0.0</td>\n",
       "      <td>0.0</td>\n",
       "      <td>40</td>\n",
       "      <td>39</td>\n",
       "    </tr>\n",
       "    <tr>\n",
       "      <th>32555</th>\n",
       "      <td>3.332205</td>\n",
       "      <td>4</td>\n",
       "      <td>12.458010</td>\n",
       "      <td>7</td>\n",
       "      <td>12</td>\n",
       "      <td>2</td>\n",
       "      <td>13</td>\n",
       "      <td>5</td>\n",
       "      <td>4</td>\n",
       "      <td>0</td>\n",
       "      <td>0.0</td>\n",
       "      <td>0.0</td>\n",
       "      <td>38</td>\n",
       "      <td>39</td>\n",
       "    </tr>\n",
       "    <tr>\n",
       "      <th>32556</th>\n",
       "      <td>3.713572</td>\n",
       "      <td>4</td>\n",
       "      <td>11.947140</td>\n",
       "      <td>11</td>\n",
       "      <td>9</td>\n",
       "      <td>2</td>\n",
       "      <td>7</td>\n",
       "      <td>0</td>\n",
       "      <td>4</td>\n",
       "      <td>1</td>\n",
       "      <td>0.0</td>\n",
       "      <td>0.0</td>\n",
       "      <td>40</td>\n",
       "      <td>39</td>\n",
       "    </tr>\n",
       "    <tr>\n",
       "      <th>32557</th>\n",
       "      <td>4.077537</td>\n",
       "      <td>4</td>\n",
       "      <td>11.931050</td>\n",
       "      <td>11</td>\n",
       "      <td>9</td>\n",
       "      <td>6</td>\n",
       "      <td>1</td>\n",
       "      <td>4</td>\n",
       "      <td>4</td>\n",
       "      <td>0</td>\n",
       "      <td>0.0</td>\n",
       "      <td>0.0</td>\n",
       "      <td>40</td>\n",
       "      <td>39</td>\n",
       "    </tr>\n",
       "    <tr>\n",
       "      <th>32558</th>\n",
       "      <td>3.135494</td>\n",
       "      <td>4</td>\n",
       "      <td>12.213500</td>\n",
       "      <td>11</td>\n",
       "      <td>9</td>\n",
       "      <td>4</td>\n",
       "      <td>1</td>\n",
       "      <td>3</td>\n",
       "      <td>4</td>\n",
       "      <td>1</td>\n",
       "      <td>0.0</td>\n",
       "      <td>0.0</td>\n",
       "      <td>20</td>\n",
       "      <td>39</td>\n",
       "    </tr>\n",
       "  </tbody>\n",
       "</table>\n",
       "<p>25940 rows × 14 columns</p>\n",
       "</div>"
      ],
      "text/plain": [
       "            Age  Workclass     Fnlwgt  Education  Education_num  \\\n",
       "0      3.931826          6  11.330348          9             13   \n",
       "1      3.663562          4  12.281398         11              9   \n",
       "2      3.988984          4  12.366157          1              7   \n",
       "4      3.637586          4  12.558780         12             14   \n",
       "5      3.912023          4  11.984103          6              5   \n",
       "...         ...        ...        ...        ...            ...   \n",
       "32554  3.135494          4  12.644821         15             10   \n",
       "32555  3.332205          4  12.458010          7             12   \n",
       "32556  3.713572          4  11.947140         11              9   \n",
       "32557  4.077537          4  11.931050         11              9   \n",
       "32558  3.135494          4  12.213500         11              9   \n",
       "\n",
       "       Marital_status  Occupation  Relationship  Race  Sex  Capital_gain  \\\n",
       "0                   2           4             0     4    1           0.0   \n",
       "1                   0           6             1     4    1           0.0   \n",
       "2                   2           6             0     2    1           0.0   \n",
       "4                   2           4             5     4    0           0.0   \n",
       "5                   3           8             1     2    0           0.0   \n",
       "...               ...         ...           ...   ...  ...           ...   \n",
       "32554               4          11             1     4    1           0.0   \n",
       "32555               2          13             5     4    0           0.0   \n",
       "32556               2           7             0     4    1           0.0   \n",
       "32557               6           1             4     4    0           0.0   \n",
       "32558               4           1             3     4    1           0.0   \n",
       "\n",
       "       Capital_loss  Hours_per_week  Native_country  \n",
       "0               0.0              13              39  \n",
       "1               0.0              40              39  \n",
       "2               0.0              40              39  \n",
       "4               0.0              40              39  \n",
       "5               0.0              16              23  \n",
       "...             ...             ...             ...  \n",
       "32554           0.0              40              39  \n",
       "32555           0.0              38              39  \n",
       "32556           0.0              40              39  \n",
       "32557           0.0              40              39  \n",
       "32558           0.0              20              39  \n",
       "\n",
       "[25940 rows x 14 columns]"
      ]
     },
     "execution_count": 42,
     "metadata": {},
     "output_type": "execute_result"
    }
   ],
   "source": [
    "x"
   ]
  },
  {
   "cell_type": "code",
   "execution_count": 43,
   "metadata": {},
   "outputs": [
    {
     "data": {
      "text/plain": [
       "0        0\n",
       "1        0\n",
       "2        0\n",
       "4        0\n",
       "5        0\n",
       "        ..\n",
       "32554    0\n",
       "32555    0\n",
       "32556    1\n",
       "32557    0\n",
       "32558    0\n",
       "Name: Income, Length: 25940, dtype: int32"
      ]
     },
     "execution_count": 43,
     "metadata": {},
     "output_type": "execute_result"
    }
   ],
   "source": [
    "y"
   ]
  },
  {
   "cell_type": "code",
   "execution_count": 44,
   "metadata": {},
   "outputs": [
    {
     "data": {
      "text/plain": [
       "0    21003\n",
       "1     4937\n",
       "Name: Income, dtype: int64"
      ]
     },
     "execution_count": 44,
     "metadata": {},
     "output_type": "execute_result"
    }
   ],
   "source": [
    "y.value_counts()"
   ]
  },
  {
   "cell_type": "code",
   "execution_count": 45,
   "metadata": {},
   "outputs": [],
   "source": [
    "#Lets use SMOTE to remove the imbalance\n",
    "from imblearn.over_sampling import SMOTE"
   ]
  },
  {
   "cell_type": "code",
   "execution_count": 46,
   "metadata": {},
   "outputs": [],
   "source": [
    "smt=SMOTE()\n",
    "trainx,trainy=smt.fit_resample(x,y)"
   ]
  },
  {
   "cell_type": "code",
   "execution_count": 47,
   "metadata": {},
   "outputs": [
    {
     "data": {
      "text/plain": [
       "array([21003,  4937], dtype=int64)"
      ]
     },
     "execution_count": 47,
     "metadata": {},
     "output_type": "execute_result"
    }
   ],
   "source": [
    "np.bincount(y)"
   ]
  },
  {
   "cell_type": "code",
   "execution_count": 48,
   "metadata": {},
   "outputs": [
    {
     "data": {
      "text/plain": [
       "Age       Workclass  Fnlwgt     Education  Education_num  Marital_status  Occupation  Relationship  Race  Sex  Capital_gain  Capital_loss  Hours_per_week  Native_country\n",
       "3.663562  4          12.241454  11         9              2               7           0             4     1    0.0           0.0           48              39                3\n",
       "3.258097  4          12.638326  9          13             4               3           1             4     1    0.0           0.0           40              26                2\n",
       "3.178054  4          12.388969  4          3              4               6           1             4     1    0.0           0.0           55              26                2\n",
       "3.688879  4          11.836407  9          13             2               3           0             4     1    0.0           0.0           40              39                2\n",
       "2.995732  4          11.836124  15         10             4               1           3             4     0    0.0           0.0           10              39                2\n",
       "                                                                                                                                                                            ..\n",
       "3.828641  6          10.679021  9          13             4               4           1             4     0    0.0           0.0           40              39                1\n",
       "                     10.613762  15         10             4               5           3             4     1    0.0           0.0           75              39                1\n",
       "                     10.613172  8          11             2               5           0             4     1    0.0           0.0           60              39                1\n",
       "                     10.447177  11         9              2               14          0             4     1    0.0           0.0           50              39                1\n",
       "2.890372  0          10.434704  0          6              4               0           3             4     1    0.0           0.0           20              39                1\n",
       "Length: 41984, dtype: int64"
      ]
     },
     "execution_count": 48,
     "metadata": {},
     "output_type": "execute_result"
    }
   ],
   "source": [
    "trainx.value_counts()"
   ]
  },
  {
   "cell_type": "code",
   "execution_count": 49,
   "metadata": {},
   "outputs": [
    {
     "data": {
      "text/plain": [
       "1    21003\n",
       "0    21003\n",
       "Name: Income, dtype: int64"
      ]
     },
     "execution_count": 49,
     "metadata": {},
     "output_type": "execute_result"
    }
   ],
   "source": [
    "trainy.value_counts()"
   ]
  },
  {
   "cell_type": "code",
   "execution_count": 50,
   "metadata": {},
   "outputs": [],
   "source": [
    "x_train,x_test,y_train,y_test=train_test_split(trainx,trainy,test_size=.30,random_state=45)"
   ]
  },
  {
   "cell_type": "code",
   "execution_count": 51,
   "metadata": {},
   "outputs": [],
   "source": [
    "LG=LogisticRegression()"
   ]
  },
  {
   "cell_type": "code",
   "execution_count": 52,
   "metadata": {},
   "outputs": [
    {
     "data": {
      "text/plain": [
       "LogisticRegression()"
      ]
     },
     "execution_count": 52,
     "metadata": {},
     "output_type": "execute_result"
    }
   ],
   "source": [
    "LG.fit(x_train,y_train)"
   ]
  },
  {
   "cell_type": "code",
   "execution_count": 53,
   "metadata": {},
   "outputs": [
    {
     "name": "stdout",
     "output_type": "stream",
     "text": [
      "0.7417076654499286\n",
      "[[4422 1897]\n",
      " [1358 4925]]\n",
      "              precision    recall  f1-score   support\n",
      "\n",
      "           0       0.77      0.70      0.73      6319\n",
      "           1       0.72      0.78      0.75      6283\n",
      "\n",
      "    accuracy                           0.74     12602\n",
      "   macro avg       0.74      0.74      0.74     12602\n",
      "weighted avg       0.74      0.74      0.74     12602\n",
      "\n"
     ]
    }
   ],
   "source": [
    "LG.fit(x_train,y_train)\n",
    "LG.score(x_train,y_train)\n",
    "predLG=LG.predict(x_test)\n",
    "print(accuracy_score(y_test,predLG))\n",
    "print(confusion_matrix(y_test,predLG))\n",
    "print(classification_report(y_test,predLG))"
   ]
  },
  {
   "cell_type": "code",
   "execution_count": 54,
   "metadata": {},
   "outputs": [
    {
     "name": "stdout",
     "output_type": "stream",
     "text": [
      "0.7462307570226948\n",
      "[[4251 2068]\n",
      " [1130 5153]]\n",
      "              precision    recall  f1-score   support\n",
      "\n",
      "           0       0.79      0.67      0.73      6319\n",
      "           1       0.71      0.82      0.76      6283\n",
      "\n",
      "    accuracy                           0.75     12602\n",
      "   macro avg       0.75      0.75      0.74     12602\n",
      "weighted avg       0.75      0.75      0.74     12602\n",
      "\n"
     ]
    }
   ],
   "source": [
    "svc=SVC(kernel='rbf')\n",
    "svc.fit(x_train,y_train)\n",
    "svc.score(x_train,y_train)\n",
    "predsvc=svc.predict(x_test)\n",
    "print(accuracy_score(y_test,predsvc))\n",
    "print(confusion_matrix(y_test,predsvc))\n",
    "print(classification_report(y_test,predsvc))"
   ]
  },
  {
   "cell_type": "code",
   "execution_count": 55,
   "metadata": {},
   "outputs": [
    {
     "name": "stdout",
     "output_type": "stream",
     "text": [
      "0.7586097444850024\n",
      "[[4445 1874]\n",
      " [1168 5115]]\n",
      "              precision    recall  f1-score   support\n",
      "\n",
      "           0       0.79      0.70      0.75      6319\n",
      "           1       0.73      0.81      0.77      6283\n",
      "\n",
      "    accuracy                           0.76     12602\n",
      "   macro avg       0.76      0.76      0.76     12602\n",
      "weighted avg       0.76      0.76      0.76     12602\n",
      "\n"
     ]
    }
   ],
   "source": [
    "svc=SVC(kernel='poly')\n",
    "svc.fit(x_train,y_train)\n",
    "svc.score(x_train,y_train)\n",
    "predsvc=svc.predict(x_test)\n",
    "print(accuracy_score(y_test,predsvc))\n",
    "print(confusion_matrix(y_test,predsvc))\n",
    "print(classification_report(y_test,predsvc))"
   ]
  },
  {
   "cell_type": "code",
   "execution_count": 56,
   "metadata": {},
   "outputs": [
    {
     "name": "stdout",
     "output_type": "stream",
     "text": [
      "0.8366132359942866\n",
      "[[5232 1087]\n",
      " [ 972 5311]]\n",
      "              precision    recall  f1-score   support\n",
      "\n",
      "           0       0.84      0.83      0.84      6319\n",
      "           1       0.83      0.85      0.84      6283\n",
      "\n",
      "    accuracy                           0.84     12602\n",
      "   macro avg       0.84      0.84      0.84     12602\n",
      "weighted avg       0.84      0.84      0.84     12602\n",
      "\n"
     ]
    }
   ],
   "source": [
    "dtc=DecisionTreeClassifier()\n",
    "dtc.fit(x_train,y_train)\n",
    "dtc.score(x_train,y_train)\n",
    "preddtc=dtc.predict(x_test)\n",
    "print(accuracy_score(y_test,preddtc))\n",
    "print(confusion_matrix(y_test,preddtc))\n",
    "print(classification_report(y_test,preddtc))"
   ]
  },
  {
   "cell_type": "code",
   "execution_count": 57,
   "metadata": {},
   "outputs": [
    {
     "name": "stdout",
     "output_type": "stream",
     "text": [
      "0.842009204888113\n",
      "[[4808 1511]\n",
      " [ 480 5803]]\n",
      "              precision    recall  f1-score   support\n",
      "\n",
      "           0       0.91      0.76      0.83      6319\n",
      "           1       0.79      0.92      0.85      6283\n",
      "\n",
      "    accuracy                           0.84     12602\n",
      "   macro avg       0.85      0.84      0.84     12602\n",
      "weighted avg       0.85      0.84      0.84     12602\n",
      "\n"
     ]
    }
   ],
   "source": [
    "KNN=KNeighborsClassifier(n_neighbors=5)\n",
    "KNN.fit(x_train,y_train)\n",
    "KNN.score(x_train,y_train)\n",
    "predKNN=KNN.predict(x_test)\n",
    "print(accuracy_score(y_test,predKNN))\n",
    "print(confusion_matrix(y_test,predKNN))\n",
    "print(classification_report(y_test,predKNN))"
   ]
  },
  {
   "cell_type": "code",
   "execution_count": 58,
   "metadata": {},
   "outputs": [
    {
     "name": "stdout",
     "output_type": "stream",
     "text": [
      "0.8825583240755436\n",
      "[[5354  965]\n",
      " [ 515 5768]]\n",
      "              precision    recall  f1-score   support\n",
      "\n",
      "           0       0.91      0.85      0.88      6319\n",
      "           1       0.86      0.92      0.89      6283\n",
      "\n",
      "    accuracy                           0.88     12602\n",
      "   macro avg       0.88      0.88      0.88     12602\n",
      "weighted avg       0.88      0.88      0.88     12602\n",
      "\n"
     ]
    }
   ],
   "source": [
    "from sklearn.ensemble import RandomForestClassifier\n",
    "rf=RandomForestClassifier(n_estimators=100,random_state=42) # default(n_estimators=100) for RandomForestClassifier\n",
    "rf.fit(x_train,y_train)\n",
    "predrf=rf.predict(x_test)\n",
    "print(accuracy_score(y_test,predrf))\n",
    "print(confusion_matrix(y_test,predrf))\n",
    "print(classification_report(y_test,predrf))"
   ]
  },
  {
   "cell_type": "code",
   "execution_count": 59,
   "metadata": {},
   "outputs": [
    {
     "name": "stdout",
     "output_type": "stream",
     "text": [
      "0.8256625932391684\n",
      "[[4962 1357]\n",
      " [ 840 5443]]\n",
      "              precision    recall  f1-score   support\n",
      "\n",
      "           0       0.86      0.79      0.82      6319\n",
      "           1       0.80      0.87      0.83      6283\n",
      "\n",
      "    accuracy                           0.83     12602\n",
      "   macro avg       0.83      0.83      0.83     12602\n",
      "weighted avg       0.83      0.83      0.83     12602\n",
      "\n"
     ]
    }
   ],
   "source": [
    "from sklearn.ensemble import AdaBoostClassifier\n",
    "#AdaBoostClassifier(base_estimator=DecisionTreeClassifier(),n_estimators=50,Learning_rate=1.0)\n",
    "ad=AdaBoostClassifier()\n",
    "ad.fit(x_train,y_train)\n",
    "predad=ad.predict(x_test)\n",
    "print(accuracy_score(y_test,predad))\n",
    "print(confusion_matrix(y_test,predad))\n",
    "print(classification_report(y_test,predad))"
   ]
  },
  {
   "cell_type": "code",
   "execution_count": 60,
   "metadata": {},
   "outputs": [
    {
     "name": "stdout",
     "output_type": "stream",
     "text": [
      "0.8427233772417076\n",
      "[[5002 1317]\n",
      " [ 665 5618]]\n",
      "              precision    recall  f1-score   support\n",
      "\n",
      "           0       0.88      0.79      0.83      6319\n",
      "           1       0.81      0.89      0.85      6283\n",
      "\n",
      "    accuracy                           0.84     12602\n",
      "   macro avg       0.85      0.84      0.84     12602\n",
      "weighted avg       0.85      0.84      0.84     12602\n",
      "\n"
     ]
    }
   ],
   "source": [
    "from sklearn.ensemble import GradientBoostingClassifier\n",
    "gb=GradientBoostingClassifier()\n",
    "gb.fit(x_train,y_train)\n",
    "predgb=gb.predict(x_test)\n",
    "print(accuracy_score(y_test,predgb))\n",
    "print(confusion_matrix(y_test,predgb))\n",
    "print(classification_report(y_test,predgb))"
   ]
  },
  {
   "cell_type": "code",
   "execution_count": 61,
   "metadata": {},
   "outputs": [
    {
     "name": "stdout",
     "output_type": "stream",
     "text": [
      "[0.82170393 0.82748651 0.8307633  0.82941403 0.82420971]\n",
      "0.826715497301465\n",
      "0.0033363448763945765\n"
     ]
    }
   ],
   "source": [
    "score=cross_val_score(LG,x,y,cv=5)\n",
    "print(score)\n",
    "print(score.mean())\n",
    "print(score.std())"
   ]
  },
  {
   "cell_type": "code",
   "execution_count": 62,
   "metadata": {},
   "outputs": [
    {
     "name": "stdout",
     "output_type": "stream",
     "text": [
      "[0.81515035 0.81341557 0.8157286  0.81052429 0.8153431 ]\n",
      "0.8140323824209714\n",
      "0.0019252106382704126\n"
     ]
    }
   ],
   "source": [
    "score=cross_val_score(svc,x,y,cv=5)\n",
    "print(score)\n",
    "print(score.mean())\n",
    "print(score.std())"
   ]
  },
  {
   "cell_type": "code",
   "execution_count": 63,
   "metadata": {},
   "outputs": [
    {
     "name": "stdout",
     "output_type": "stream",
     "text": [
      "[0.79722436 0.80069391 0.79529684 0.80686199 0.79298381]\n",
      "0.7986121819583654\n",
      "0.004837127877057273\n"
     ]
    }
   ],
   "source": [
    "score=cross_val_score(dtc,x,y,cv=5)\n",
    "print(score)\n",
    "print(score.mean())\n",
    "print(score.std())"
   ]
  },
  {
   "cell_type": "code",
   "execution_count": 64,
   "metadata": {},
   "outputs": [
    {
     "name": "stdout",
     "output_type": "stream",
     "text": [
      "[0.827101   0.83095605 0.82845027 0.83500386 0.82825752]\n",
      "0.8299537393986121\n",
      "0.0028207799737743466\n"
     ]
    }
   ],
   "source": [
    "score=cross_val_score(KNN,x,y,cv=5)\n",
    "print(score)\n",
    "print(score.mean())\n",
    "print(score.std())"
   ]
  },
  {
   "cell_type": "code",
   "execution_count": 65,
   "metadata": {},
   "outputs": [
    {
     "name": "stdout",
     "output_type": "stream",
     "text": [
      "[0.85196608 0.85485736 0.85851966 0.86353123 0.85774865]\n",
      "0.8573245952197379\n",
      "0.0038712074666563357\n"
     ]
    }
   ],
   "source": [
    "score=cross_val_score(ad,x,y,cv=5)\n",
    "print(score)\n",
    "print(score.mean())\n",
    "print(score.std())"
   ]
  },
  {
   "cell_type": "code",
   "execution_count": 66,
   "metadata": {},
   "outputs": [
    {
     "name": "stdout",
     "output_type": "stream",
     "text": [
      "[0.85601388 0.85929067 0.85986893 0.86854279 0.85505012]\n",
      "0.8597532767925984\n",
      "0.004766251510060163\n"
     ]
    }
   ],
   "source": [
    "score=cross_val_score(gb,x,y,cv=5)\n",
    "print(score)\n",
    "print(score.mean())\n",
    "print(score.std())"
   ]
  },
  {
   "cell_type": "code",
   "execution_count": 67,
   "metadata": {},
   "outputs": [
    {
     "name": "stdout",
     "output_type": "stream",
     "text": [
      "[0.84599075 0.84194295 0.84444873 0.8538936  0.8502313 ]\n",
      "0.8473014649190439\n",
      "0.004256994838388766\n"
     ]
    }
   ],
   "source": [
    "score=cross_val_score(rf,x,y,cv=5)\n",
    "print(score)\n",
    "print(score.mean())\n",
    "print(score.std())"
   ]
  },
  {
   "cell_type": "markdown",
   "metadata": {},
   "source": [
    "We can see that the Random forest classifier is giving the best results 88% with the cross validation score (85%) so we are proceeding the same for the prediction."
   ]
  },
  {
   "cell_type": "code",
   "execution_count": 68,
   "metadata": {},
   "outputs": [],
   "source": [
    "from sklearn.metrics import roc_curve\n",
    "import matplotlib.pyplot as plt\n",
    "from sklearn.metrics import roc_auc_score"
   ]
  },
  {
   "cell_type": "code",
   "execution_count": 69,
   "metadata": {},
   "outputs": [],
   "source": [
    "y_pred_prob=rf.predict_proba(x_test)[:,-1]"
   ]
  },
  {
   "cell_type": "code",
   "execution_count": 70,
   "metadata": {},
   "outputs": [
    {
     "data": {
      "text/plain": [
       "array([0.48, 0.  , 0.09, ..., 0.94, 0.9 , 0.02])"
      ]
     },
     "execution_count": 70,
     "metadata": {},
     "output_type": "execute_result"
    }
   ],
   "source": [
    "y_pred_prob"
   ]
  },
  {
   "cell_type": "code",
   "execution_count": 71,
   "metadata": {},
   "outputs": [],
   "source": [
    "fpr,tpr,thresholds=roc_curve(y_test,y_pred_prob)"
   ]
  },
  {
   "cell_type": "code",
   "execution_count": 72,
   "metadata": {},
   "outputs": [
    {
     "data": {
      "text/plain": [
       "array([0.        , 0.00126602, 0.00237379, 0.00363982, 0.00680487,\n",
       "       0.00870391, 0.0107612 , 0.01329324, 0.0164583 , 0.01978161,\n",
       "       0.02199715, 0.02500396, 0.02832727, 0.03180883, 0.03418262,\n",
       "       0.03639816, 0.0382972 , 0.04003798, 0.04304479, 0.04589334,\n",
       "       0.04810888, 0.05048267, 0.05396423, 0.05792056, 0.06029435,\n",
       "       0.0631429 , 0.06646621, 0.06931476, 0.07232157, 0.07627789,\n",
       "       0.0792847 , 0.08118373, 0.08387403, 0.08672258, 0.09020415,\n",
       "       0.09352746, 0.09653426, 0.10096534, 0.1041304 , 0.1098275 ,\n",
       "       0.11330907, 0.11663238, 0.1205887 , 0.12486153, 0.12850135,\n",
       "       0.13261592, 0.13593923, 0.14021206, 0.14448489, 0.14875771,\n",
       "       0.15271404, 0.15825289, 0.16141795, 0.16632379, 0.17028011,\n",
       "       0.17518595, 0.1810413 , 0.18468112, 0.18863744, 0.19338503,\n",
       "       0.19702485, 0.20145593, 0.20699478, 0.21221712, 0.219022  ,\n",
       "       0.22408609, 0.23073271, 0.23500554, 0.23912011, 0.246558  ,\n",
       "       0.25241336, 0.25842697, 0.26254154, 0.26808039, 0.27346099,\n",
       "       0.28074062, 0.28675423, 0.2929261 , 0.30004748, 0.30542807,\n",
       "       0.31334072, 0.32204463, 0.33201456, 0.3399272 , 0.35084665,\n",
       "       0.36018357, 0.36872923, 0.38186422, 0.39389144, 0.40686818,\n",
       "       0.42142744, 0.43440418, 0.44959646, 0.46937807, 0.49232473,\n",
       "       0.51432189, 0.53837633, 0.56781136, 0.60341826, 0.65136889,\n",
       "       0.73413515, 1.        ])"
      ]
     },
     "execution_count": 72,
     "metadata": {},
     "output_type": "execute_result"
    }
   ],
   "source": [
    "fpr"
   ]
  },
  {
   "cell_type": "code",
   "execution_count": 73,
   "metadata": {},
   "outputs": [
    {
     "data": {
      "text/plain": [
       "array([0.        , 0.09008435, 0.15820468, 0.21677543, 0.27104886,\n",
       "       0.32182079, 0.36145154, 0.40076397, 0.43705236, 0.47127169,\n",
       "       0.49657807, 0.52092949, 0.5417794 , 0.56247016, 0.58443419,\n",
       "       0.60353334, 0.62167754, 0.63807099, 0.65350947, 0.66735636,\n",
       "       0.68120325, 0.69425434, 0.70810123, 0.72210727, 0.73324845,\n",
       "       0.7456629 , 0.75855483, 0.77096928, 0.7803597 , 0.78911348,\n",
       "       0.79898138, 0.80869012, 0.81903549, 0.82667516, 0.83367818,\n",
       "       0.84036288, 0.84561515, 0.85118574, 0.85611969, 0.86439599,\n",
       "       0.87060322, 0.87505968, 0.88110775, 0.88620086, 0.89208977,\n",
       "       0.89781951, 0.9025943 , 0.90689161, 0.91055228, 0.91469043,\n",
       "       0.91803279, 0.92185262, 0.92424001, 0.92710489, 0.93187968,\n",
       "       0.93538119, 0.93824606, 0.94206589, 0.94524908, 0.94859144,\n",
       "       0.95145631, 0.95352539, 0.9562311 , 0.95830018, 0.96021009,\n",
       "       0.96180169, 0.96275664, 0.96418908, 0.96657648, 0.96848639,\n",
       "       0.97007799, 0.97119211, 0.97262454, 0.97342034, 0.97453446,\n",
       "       0.97612605, 0.97660353, 0.97803597, 0.97946841, 0.98137832,\n",
       "       0.98312908, 0.9842432 , 0.98472067, 0.98599395, 0.98647143,\n",
       "       0.98758555, 0.98869967, 0.98981378, 0.99140538, 0.9917237 ,\n",
       "       0.99363361, 0.99442941, 0.99506605, 0.99554353, 0.99633933,\n",
       "       0.99681681, 0.99745345, 0.99856756, 0.99888588, 0.99952252,\n",
       "       0.99968168, 1.        ])"
      ]
     },
     "execution_count": 73,
     "metadata": {},
     "output_type": "execute_result"
    }
   ],
   "source": [
    "tpr"
   ]
  },
  {
   "cell_type": "code",
   "execution_count": 74,
   "metadata": {},
   "outputs": [
    {
     "data": {
      "image/png": "[encoded data removed]",
      "text/plain": [
       "<Figure size 432x288 with 1 Axes>"
      ]
     },
     "metadata": {
      "needs_background": "light"
     },
     "output_type": "display_data"
    }
   ],
   "source": [
    "plt.plot([0,1],[0,1],\"k--\")\n",
    "plt.plot(fpr,tpr,label=\"Ramdom forest Regression\")\n",
    "plt.xlabel(\"False Positive Rate\")\n",
    "plt.ylabel(\"True Positive Rate\")\n",
    "plt.title(\"Ramdom forest Regression\")\n",
    "plt.show()"
   ]
  },
  {
   "cell_type": "markdown",
   "metadata": {},
   "source": [
    "# Saving the model"
   ]
  },
  {
   "cell_type": "code",
   "execution_count": 76,
   "metadata": {},
   "outputs": [
    {
     "data": {
      "text/plain": [
       "array([0, 0, 0, ..., 1, 1, 0])"
      ]
     },
     "execution_count": 76,
     "metadata": {},
     "output_type": "execute_result"
    }
   ],
   "source": [
    "import pickle\n",
    "filename=\"CensusIncome.pkl\"\n",
    "pickle.dump(rf,open(filename,'wb'))\n",
    "loaded_model=pickle.load(open(filename,\"rb\"))\n",
    "loaded_model.predict(x_test)"
   ]
  },
  {
   "cell_type": "code",
   "execution_count": null,
   "metadata": {},
   "outputs": [],
   "source": []
  }
 ],
 "metadata": {
  "kernelspec": {
   "display_name": "Python 3",
   "language": "python",
   "name": "python3"
  },
  "language_info": {
   "codemirror_mode": {
    "name": "ipython",
    "version": 3
   },
   "file_extension": ".py",
   "mimetype": "text/x-python",
   "name": "python",
   "nbconvert_exporter": "python",
   "pygments_lexer": "ipython3",
   "version": "3.8.5"
  }
 },
 "nbformat": 4,
 "nbformat_minor": 4
}
